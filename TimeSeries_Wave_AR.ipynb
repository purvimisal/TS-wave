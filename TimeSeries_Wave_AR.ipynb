{
  "nbformat": 4,
  "nbformat_minor": 0,
  "metadata": {
    "colab": {
      "name": "TimeSeries_Wave_AR.ipynb",
      "provenance": [],
      "collapsed_sections": [],
      "include_colab_link": true
    },
    "kernelspec": {
      "display_name": "Python 3",
      "language": "python",
      "name": "python3"
    },
    "language_info": {
      "codemirror_mode": {
        "name": "ipython",
        "version": 3
      },
      "file_extension": ".py",
      "mimetype": "text/x-python",
      "name": "python",
      "nbconvert_exporter": "python",
      "pygments_lexer": "ipython3",
      "version": "3.8.5"
    }
  },
  "cells": [
    {
      "cell_type": "markdown",
      "metadata": {
        "id": "view-in-github",
        "colab_type": "text"
      },
      "source": [
        "<a href=\"https://colab.research.google.com/github/purvimisal/TS-wave/blob/master/TimeSeries_Wave_AR.ipynb\" target=\"_parent\"><img src=\"https://colab.research.google.com/assets/colab-badge.svg\" alt=\"Open In Colab\"/></a>"
      ]
    },
    {
      "cell_type": "code",
      "metadata": {
        "colab_type": "code",
        "id": "MomD6RTy33Th",
        "colab": {}
      },
      "source": [
        "import matplotlib as mpl\n",
        "import matplotlib.pyplot as plt\n",
        "import numpy as np\n",
        "import os\n",
        "from datetime import datetime\n",
        "import pandas as pd\n",
        "import plotly.express as px\n",
        "\n",
        "mpl.rcParams['figure.figsize'] = (10, 8)\n",
        "mpl.rcParams['axes.grid'] = False"
      ],
      "execution_count": null,
      "outputs": []
    },
    {
      "cell_type": "code",
      "metadata": {
        "colab_type": "code",
        "id": "6_Bw0Vqo4EnE",
        "colab": {}
      },
      "source": [
        "df = pd.read_csv('https://raw.githubusercontent.com/purvimisal/TS-wave/master/dataset/xyzZDisplacement-less.csv', names=['Time', 'ZDisplacement'])"
      ],
      "execution_count": null,
      "outputs": []
    },
    {
      "cell_type": "markdown",
      "metadata": {
        "id": "DWNU0SZtf_f-",
        "colab_type": "text"
      },
      "source": [
        "UTC measurement times calculated as **xyzStartTime + arrayIndex/xyzSampleRate - xyzFilterDelay** \n",
        "\n",
        "where arrayIndex is the displacement array index starting from 0"
      ]
    },
    {
      "cell_type": "code",
      "metadata": {
        "colab_type": "code",
        "id": "ROTSL_yIB5H0",
        "colab": {}
      },
      "source": [
        "startdate = '2018-07-25T18:00:00.000000000'  #xyzStartTime\n",
        "samplerate = 1.27999997\n",
        "FilterDelay = 133.300003 "
      ],
      "execution_count": null,
      "outputs": []
    },
    {
      "cell_type": "code",
      "metadata": {
        "colab_type": "code",
        "id": "j87RiuimCDkR",
        "colab": {
          "base_uri": "https://localhost:8080/",
          "height": 34
        },
        "outputId": "38f18390-ab15-4f25-b1be-0c26efe11175"
      },
      "source": [
        "startdate = pd.to_datetime(startdate)\n",
        "startdate"
      ],
      "execution_count": null,
      "outputs": [
        {
          "output_type": "execute_result",
          "data": {
            "text/plain": [
              "Timestamp('2018-07-25 18:00:00')"
            ]
          },
          "metadata": {
            "tags": []
          },
          "execution_count": 152
        }
      ]
    },
    {
      "cell_type": "code",
      "metadata": {
        "id": "r8GzJKYef_gW",
        "colab_type": "code",
        "colab": {}
      },
      "source": [
        ""
      ],
      "execution_count": null,
      "outputs": []
    },
    {
      "cell_type": "code",
      "metadata": {
        "id": "CPzwagc_f_gg",
        "colab_type": "code",
        "colab": {}
      },
      "source": [
        ""
      ],
      "execution_count": null,
      "outputs": []
    },
    {
      "cell_type": "code",
      "metadata": {
        "colab_type": "code",
        "id": "Q5tUkPvICGRs",
        "colab": {}
      },
      "source": [
        "df['TimeStamp'] = pd.to_datetime(startdate + pd.to_timedelta(((df['Time']/samplerate)-FilterDelay), unit='s'))"
      ],
      "execution_count": null,
      "outputs": []
    },
    {
      "cell_type": "code",
      "metadata": {
        "colab_type": "code",
        "id": "JJ_eZvkECbgX",
        "colab": {
          "base_uri": "https://localhost:8080/",
          "height": 206
        },
        "outputId": "306d8799-06d7-4993-dc91-cdaa61f431a7"
      },
      "source": [
        "df.head()"
      ],
      "execution_count": null,
      "outputs": [
        {
          "output_type": "execute_result",
          "data": {
            "text/html": [
              "<div>\n",
              "<style scoped>\n",
              "    .dataframe tbody tr th:only-of-type {\n",
              "        vertical-align: middle;\n",
              "    }\n",
              "\n",
              "    .dataframe tbody tr th {\n",
              "        vertical-align: top;\n",
              "    }\n",
              "\n",
              "    .dataframe thead th {\n",
              "        text-align: right;\n",
              "    }\n",
              "</style>\n",
              "<table border=\"1\" class=\"dataframe\">\n",
              "  <thead>\n",
              "    <tr style=\"text-align: right;\">\n",
              "      <th></th>\n",
              "      <th>Time</th>\n",
              "      <th>ZDisplacement</th>\n",
              "      <th>TimeStamp</th>\n",
              "    </tr>\n",
              "  </thead>\n",
              "  <tbody>\n",
              "    <tr>\n",
              "      <th>NaN</th>\n",
              "      <td>0</td>\n",
              "      <td>0.59</td>\n",
              "      <td>2018-07-25 17:57:46.699997000</td>\n",
              "    </tr>\n",
              "    <tr>\n",
              "      <th>0.0</th>\n",
              "      <td>1</td>\n",
              "      <td>0.57</td>\n",
              "      <td>2018-07-25 17:57:47.481247018</td>\n",
              "    </tr>\n",
              "    <tr>\n",
              "      <th>1.0</th>\n",
              "      <td>2</td>\n",
              "      <td>0.47</td>\n",
              "      <td>2018-07-25 17:57:48.262497037</td>\n",
              "    </tr>\n",
              "    <tr>\n",
              "      <th>2.0</th>\n",
              "      <td>3</td>\n",
              "      <td>0.46</td>\n",
              "      <td>2018-07-25 17:57:49.043747055</td>\n",
              "    </tr>\n",
              "    <tr>\n",
              "      <th>3.0</th>\n",
              "      <td>4</td>\n",
              "      <td>0.34</td>\n",
              "      <td>2018-07-25 17:57:49.824997073</td>\n",
              "    </tr>\n",
              "  </tbody>\n",
              "</table>\n",
              "</div>"
            ],
            "text/plain": [
              "     Time  ZDisplacement                     TimeStamp\n",
              "NaN     0           0.59 2018-07-25 17:57:46.699997000\n",
              "0.0     1           0.57 2018-07-25 17:57:47.481247018\n",
              "1.0     2           0.47 2018-07-25 17:57:48.262497037\n",
              "2.0     3           0.46 2018-07-25 17:57:49.043747055\n",
              "3.0     4           0.34 2018-07-25 17:57:49.824997073"
            ]
          },
          "metadata": {
            "tags": []
          },
          "execution_count": 154
        }
      ]
    },
    {
      "cell_type": "code",
      "metadata": {
        "colab_type": "code",
        "id": "u7VHZtnBDefb",
        "colab": {
          "base_uri": "https://localhost:8080/",
          "height": 206
        },
        "outputId": "bf9677ad-483f-4e58-835c-693658c069fa"
      },
      "source": [
        "df.tail()"
      ],
      "execution_count": null,
      "outputs": [
        {
          "output_type": "execute_result",
          "data": {
            "text/html": [
              "<div>\n",
              "<style scoped>\n",
              "    .dataframe tbody tr th:only-of-type {\n",
              "        vertical-align: middle;\n",
              "    }\n",
              "\n",
              "    .dataframe tbody tr th {\n",
              "        vertical-align: top;\n",
              "    }\n",
              "\n",
              "    .dataframe thead th {\n",
              "        text-align: right;\n",
              "    }\n",
              "</style>\n",
              "<table border=\"1\" class=\"dataframe\">\n",
              "  <thead>\n",
              "    <tr style=\"text-align: right;\">\n",
              "      <th></th>\n",
              "      <th>Time</th>\n",
              "      <th>ZDisplacement</th>\n",
              "      <th>TimeStamp</th>\n",
              "    </tr>\n",
              "  </thead>\n",
              "  <tbody>\n",
              "    <tr>\n",
              "      <th>99995.0</th>\n",
              "      <td>99996</td>\n",
              "      <td>-0.05</td>\n",
              "      <td>2018-07-26 15:39:48.576827981</td>\n",
              "    </tr>\n",
              "    <tr>\n",
              "      <th>99996.0</th>\n",
              "      <td>99997</td>\n",
              "      <td>0.20</td>\n",
              "      <td>2018-07-26 15:39:49.358078000</td>\n",
              "    </tr>\n",
              "    <tr>\n",
              "      <th>99997.0</th>\n",
              "      <td>99998</td>\n",
              "      <td>0.37</td>\n",
              "      <td>2018-07-26 15:39:50.139328018</td>\n",
              "    </tr>\n",
              "    <tr>\n",
              "      <th>99998.0</th>\n",
              "      <td>99999</td>\n",
              "      <td>0.34</td>\n",
              "      <td>2018-07-26 15:39:50.920578036</td>\n",
              "    </tr>\n",
              "    <tr>\n",
              "      <th>99999.0</th>\n",
              "      <td>100000</td>\n",
              "      <td>0.16</td>\n",
              "      <td>2018-07-26 15:39:51.701828055</td>\n",
              "    </tr>\n",
              "  </tbody>\n",
              "</table>\n",
              "</div>"
            ],
            "text/plain": [
              "           Time  ZDisplacement                     TimeStamp\n",
              "99995.0   99996          -0.05 2018-07-26 15:39:48.576827981\n",
              "99996.0   99997           0.20 2018-07-26 15:39:49.358078000\n",
              "99997.0   99998           0.37 2018-07-26 15:39:50.139328018\n",
              "99998.0   99999           0.34 2018-07-26 15:39:50.920578036\n",
              "99999.0  100000           0.16 2018-07-26 15:39:51.701828055"
            ]
          },
          "metadata": {
            "tags": []
          },
          "execution_count": 155
        }
      ]
    },
    {
      "cell_type": "code",
      "metadata": {
        "colab_type": "code",
        "id": "Lugo5VztC7YM",
        "colab": {
          "base_uri": "https://localhost:8080/",
          "height": 542
        },
        "outputId": "c7f4c9a0-ffef-4090-fba6-cd9888a15f7f"
      },
      "source": [
        "fig = px.line(df[:1000], x='Time', y='ZDisplacement', title='Time vs Displacement ')\n",
        "\n",
        "fig.update_xaxes(\n",
        "    rangeslider_visible=True,\n",
        "    rangeselector=dict(\n",
        "        buttons=list([\n",
        "            dict(count=1, label=\"1h\", step=\"hour\", stepmode=\"backward\"),\n",
        "            dict(count=2, label=\"3h\", step=\"hour\", stepmode=\"backward\"),\n",
        "            dict(count=3, label=\"5h\", step=\"hour\", stepmode=\"backward\"),\n",
        "            dict(step=\"all\")\n",
        "        ])\n",
        "    )\n",
        ")\n",
        "fig.show()"
      ],
      "execution_count": null,
      "outputs": [
        {
          "output_type": "display_data",
          "data": {
            "application/vnd.plotly.v1+json": {
              "config": {
                "plotlyServerURL": "https://plot.ly"
              },
              "data": [
                {
                  "hovertemplate": "Time=%{x}<br>ZDisplacement=%{y}<extra></extra>",
                  "legendgroup": "",
                  "line": {
                    "color": "#636efa",
                    "dash": "solid"
                  },
                  "mode": "lines",
                  "name": "",
                  "showlegend": false,
                  "type": "scattergl",
                  "x": [
                    0,
                    1,
                    2,
                    3,
                    4,
                    5,
                    6,
                    7,
                    8,
                    9,
                    10,
                    11,
                    12,
                    13,
                    14,
                    15,
                    16,
                    17,
                    18,
                    19,
                    20,
                    21,
                    22,
                    23,
                    24,
                    25,
                    26,
                    27,
                    28,
                    29,
                    30,
                    31,
                    32,
                    33,
                    34,
                    35,
                    36,
                    37,
                    38,
                    39,
                    40,
                    41,
                    42,
                    43,
                    44,
                    45,
                    46,
                    47,
                    48,
                    49,
                    50,
                    51,
                    52,
                    53,
                    54,
                    55,
                    56,
                    57,
                    58,
                    59,
                    60,
                    61,
                    62,
                    63,
                    64,
                    65,
                    66,
                    67,
                    68,
                    69,
                    70,
                    71,
                    72,
                    73,
                    74,
                    75,
                    76,
                    77,
                    78,
                    79,
                    80,
                    81,
                    82,
                    83,
                    84,
                    85,
                    86,
                    87,
                    88,
                    89,
                    90,
                    91,
                    92,
                    93,
                    94,
                    95,
                    96,
                    97,
                    98,
                    99,
                    100,
                    101,
                    102,
                    103,
                    104,
                    105,
                    106,
                    107,
                    108,
                    109,
                    110,
                    111,
                    112,
                    113,
                    114,
                    115,
                    116,
                    117,
                    118,
                    119,
                    120,
                    121,
                    122,
                    123,
                    124,
                    125,
                    126,
                    127,
                    128,
                    129,
                    130,
                    131,
                    132,
                    133,
                    134,
                    135,
                    136,
                    137,
                    138,
                    139,
                    140,
                    141,
                    142,
                    143,
                    144,
                    145,
                    146,
                    147,
                    148,
                    149,
                    150,
                    151,
                    152,
                    153,
                    154,
                    155,
                    156,
                    157,
                    158,
                    159,
                    160,
                    161,
                    162,
                    163,
                    164,
                    165,
                    166,
                    167,
                    168,
                    169,
                    170,
                    171,
                    172,
                    173,
                    174,
                    175,
                    176,
                    177,
                    178,
                    179,
                    180,
                    181,
                    182,
                    183,
                    184,
                    185,
                    186,
                    187,
                    188,
                    189,
                    190,
                    191,
                    192,
                    193,
                    194,
                    195,
                    196,
                    197,
                    198,
                    199,
                    200,
                    201,
                    202,
                    203,
                    204,
                    205,
                    206,
                    207,
                    208,
                    209,
                    210,
                    211,
                    212,
                    213,
                    214,
                    215,
                    216,
                    217,
                    218,
                    219,
                    220,
                    221,
                    222,
                    223,
                    224,
                    225,
                    226,
                    227,
                    228,
                    229,
                    230,
                    231,
                    232,
                    233,
                    234,
                    235,
                    236,
                    237,
                    238,
                    239,
                    240,
                    241,
                    242,
                    243,
                    244,
                    245,
                    246,
                    247,
                    248,
                    249,
                    250,
                    251,
                    252,
                    253,
                    254,
                    255,
                    256,
                    257,
                    258,
                    259,
                    260,
                    261,
                    262,
                    263,
                    264,
                    265,
                    266,
                    267,
                    268,
                    269,
                    270,
                    271,
                    272,
                    273,
                    274,
                    275,
                    276,
                    277,
                    278,
                    279,
                    280,
                    281,
                    282,
                    283,
                    284,
                    285,
                    286,
                    287,
                    288,
                    289,
                    290,
                    291,
                    292,
                    293,
                    294,
                    295,
                    296,
                    297,
                    298,
                    299,
                    300,
                    301,
                    302,
                    303,
                    304,
                    305,
                    306,
                    307,
                    308,
                    309,
                    310,
                    311,
                    312,
                    313,
                    314,
                    315,
                    316,
                    317,
                    318,
                    319,
                    320,
                    321,
                    322,
                    323,
                    324,
                    325,
                    326,
                    327,
                    328,
                    329,
                    330,
                    331,
                    332,
                    333,
                    334,
                    335,
                    336,
                    337,
                    338,
                    339,
                    340,
                    341,
                    342,
                    343,
                    344,
                    345,
                    346,
                    347,
                    348,
                    349,
                    350,
                    351,
                    352,
                    353,
                    354,
                    355,
                    356,
                    357,
                    358,
                    359,
                    360,
                    361,
                    362,
                    363,
                    364,
                    365,
                    366,
                    367,
                    368,
                    369,
                    370,
                    371,
                    372,
                    373,
                    374,
                    375,
                    376,
                    377,
                    378,
                    379,
                    380,
                    381,
                    382,
                    383,
                    384,
                    385,
                    386,
                    387,
                    388,
                    389,
                    390,
                    391,
                    392,
                    393,
                    394,
                    395,
                    396,
                    397,
                    398,
                    399,
                    400,
                    401,
                    402,
                    403,
                    404,
                    405,
                    406,
                    407,
                    408,
                    409,
                    410,
                    411,
                    412,
                    413,
                    414,
                    415,
                    416,
                    417,
                    418,
                    419,
                    420,
                    421,
                    422,
                    423,
                    424,
                    425,
                    426,
                    427,
                    428,
                    429,
                    430,
                    431,
                    432,
                    433,
                    434,
                    435,
                    436,
                    437,
                    438,
                    439,
                    440,
                    441,
                    442,
                    443,
                    444,
                    445,
                    446,
                    447,
                    448,
                    449,
                    450,
                    451,
                    452,
                    453,
                    454,
                    455,
                    456,
                    457,
                    458,
                    459,
                    460,
                    461,
                    462,
                    463,
                    464,
                    465,
                    466,
                    467,
                    468,
                    469,
                    470,
                    471,
                    472,
                    473,
                    474,
                    475,
                    476,
                    477,
                    478,
                    479,
                    480,
                    481,
                    482,
                    483,
                    484,
                    485,
                    486,
                    487,
                    488,
                    489,
                    490,
                    491,
                    492,
                    493,
                    494,
                    495,
                    496,
                    497,
                    498,
                    499,
                    500,
                    501,
                    502,
                    503,
                    504,
                    505,
                    506,
                    507,
                    508,
                    509,
                    510,
                    511,
                    512,
                    513,
                    514,
                    515,
                    516,
                    517,
                    518,
                    519,
                    520,
                    521,
                    522,
                    523,
                    524,
                    525,
                    526,
                    527,
                    528,
                    529,
                    530,
                    531,
                    532,
                    533,
                    534,
                    535,
                    536,
                    537,
                    538,
                    539,
                    540,
                    541,
                    542,
                    543,
                    544,
                    545,
                    546,
                    547,
                    548,
                    549,
                    550,
                    551,
                    552,
                    553,
                    554,
                    555,
                    556,
                    557,
                    558,
                    559,
                    560,
                    561,
                    562,
                    563,
                    564,
                    565,
                    566,
                    567,
                    568,
                    569,
                    570,
                    571,
                    572,
                    573,
                    574,
                    575,
                    576,
                    577,
                    578,
                    579,
                    580,
                    581,
                    582,
                    583,
                    584,
                    585,
                    586,
                    587,
                    588,
                    589,
                    590,
                    591,
                    592,
                    593,
                    594,
                    595,
                    596,
                    597,
                    598,
                    599,
                    600,
                    601,
                    602,
                    603,
                    604,
                    605,
                    606,
                    607,
                    608,
                    609,
                    610,
                    611,
                    612,
                    613,
                    614,
                    615,
                    616,
                    617,
                    618,
                    619,
                    620,
                    621,
                    622,
                    623,
                    624,
                    625,
                    626,
                    627,
                    628,
                    629,
                    630,
                    631,
                    632,
                    633,
                    634,
                    635,
                    636,
                    637,
                    638,
                    639,
                    640,
                    641,
                    642,
                    643,
                    644,
                    645,
                    646,
                    647,
                    648,
                    649,
                    650,
                    651,
                    652,
                    653,
                    654,
                    655,
                    656,
                    657,
                    658,
                    659,
                    660,
                    661,
                    662,
                    663,
                    664,
                    665,
                    666,
                    667,
                    668,
                    669,
                    670,
                    671,
                    672,
                    673,
                    674,
                    675,
                    676,
                    677,
                    678,
                    679,
                    680,
                    681,
                    682,
                    683,
                    684,
                    685,
                    686,
                    687,
                    688,
                    689,
                    690,
                    691,
                    692,
                    693,
                    694,
                    695,
                    696,
                    697,
                    698,
                    699,
                    700,
                    701,
                    702,
                    703,
                    704,
                    705,
                    706,
                    707,
                    708,
                    709,
                    710,
                    711,
                    712,
                    713,
                    714,
                    715,
                    716,
                    717,
                    718,
                    719,
                    720,
                    721,
                    722,
                    723,
                    724,
                    725,
                    726,
                    727,
                    728,
                    729,
                    730,
                    731,
                    732,
                    733,
                    734,
                    735,
                    736,
                    737,
                    738,
                    739,
                    740,
                    741,
                    742,
                    743,
                    744,
                    745,
                    746,
                    747,
                    748,
                    749,
                    750,
                    751,
                    752,
                    753,
                    754,
                    755,
                    756,
                    757,
                    758,
                    759,
                    760,
                    761,
                    762,
                    763,
                    764,
                    765,
                    766,
                    767,
                    768,
                    769,
                    770,
                    771,
                    772,
                    773,
                    774,
                    775,
                    776,
                    777,
                    778,
                    779,
                    780,
                    781,
                    782,
                    783,
                    784,
                    785,
                    786,
                    787,
                    788,
                    789,
                    790,
                    791,
                    792,
                    793,
                    794,
                    795,
                    796,
                    797,
                    798,
                    799,
                    800,
                    801,
                    802,
                    803,
                    804,
                    805,
                    806,
                    807,
                    808,
                    809,
                    810,
                    811,
                    812,
                    813,
                    814,
                    815,
                    816,
                    817,
                    818,
                    819,
                    820,
                    821,
                    822,
                    823,
                    824,
                    825,
                    826,
                    827,
                    828,
                    829,
                    830,
                    831,
                    832,
                    833,
                    834,
                    835,
                    836,
                    837,
                    838,
                    839,
                    840,
                    841,
                    842,
                    843,
                    844,
                    845,
                    846,
                    847,
                    848,
                    849,
                    850,
                    851,
                    852,
                    853,
                    854,
                    855,
                    856,
                    857,
                    858,
                    859,
                    860,
                    861,
                    862,
                    863,
                    864,
                    865,
                    866,
                    867,
                    868,
                    869,
                    870,
                    871,
                    872,
                    873,
                    874,
                    875,
                    876,
                    877,
                    878,
                    879,
                    880,
                    881,
                    882,
                    883,
                    884,
                    885,
                    886,
                    887,
                    888,
                    889,
                    890,
                    891,
                    892,
                    893,
                    894,
                    895,
                    896,
                    897,
                    898,
                    899,
                    900,
                    901,
                    902,
                    903,
                    904,
                    905,
                    906,
                    907,
                    908,
                    909,
                    910,
                    911,
                    912,
                    913,
                    914,
                    915,
                    916,
                    917,
                    918,
                    919,
                    920,
                    921,
                    922,
                    923,
                    924,
                    925,
                    926,
                    927,
                    928,
                    929,
                    930,
                    931,
                    932,
                    933,
                    934,
                    935,
                    936,
                    937,
                    938,
                    939,
                    940,
                    941,
                    942,
                    943,
                    944,
                    945,
                    946,
                    947,
                    948,
                    949,
                    950,
                    951,
                    952,
                    953,
                    954,
                    955,
                    956,
                    957,
                    958,
                    959,
                    960,
                    961,
                    962,
                    963,
                    964,
                    965,
                    966,
                    967,
                    968,
                    969,
                    970,
                    971,
                    972,
                    973,
                    974,
                    975,
                    976,
                    977,
                    978,
                    979,
                    980,
                    981,
                    982,
                    983,
                    984,
                    985,
                    986,
                    987,
                    988,
                    989,
                    990,
                    991,
                    992,
                    993,
                    994,
                    995,
                    996,
                    997,
                    998,
                    999,
                    1000,
                    1001
                  ],
                  "xaxis": "x",
                  "y": [
                    0.59,
                    0.57,
                    0.47,
                    0.46,
                    0.34,
                    0.14,
                    -0.04,
                    -0.15,
                    -0.37,
                    -0.5,
                    -0.44,
                    -0.47,
                    -0.37,
                    -0.41,
                    -0.23,
                    -0.19,
                    0.01,
                    0.38,
                    0.21,
                    0.33,
                    0.75,
                    0.78,
                    0.51,
                    0.05,
                    -0.35,
                    -0.29,
                    -0.04,
                    0.17,
                    0.14,
                    -0.04,
                    -0.51,
                    -0.69,
                    -0.58,
                    -0.26,
                    0.09,
                    -0.12,
                    -0.16,
                    -0.14,
                    -0.06,
                    0.13,
                    0.15,
                    0.46,
                    0.66,
                    0.64,
                    0.62,
                    0.3,
                    0.1,
                    0.08,
                    0.02,
                    -0.36,
                    -0.43,
                    -0.42,
                    -0.67,
                    -0.72,
                    -0.48,
                    -0.11,
                    -0.02,
                    -0.05,
                    0.05,
                    0.34,
                    0.44,
                    0.24,
                    0.29,
                    0.36,
                    0.14,
                    0.25,
                    0.38,
                    0.31,
                    0.19,
                    -0.01,
                    -0.37,
                    -0.35,
                    -0.22,
                    -0.52,
                    -0.64,
                    -0.5,
                    -0.22,
                    -0.06,
                    -0.04,
                    0.11,
                    0.44,
                    0.36,
                    0.25,
                    0.34,
                    0.46,
                    0.48,
                    0.36,
                    0.24,
                    -0.19,
                    -0.4,
                    -0.38,
                    -0.38,
                    -0.29,
                    -0.27,
                    -0.23,
                    -0.28,
                    -0.24,
                    -0.07,
                    0.18,
                    0.14,
                    0,
                    0.26,
                    0.31,
                    0.14,
                    0.12,
                    0.29,
                    0.26,
                    0.19,
                    0.22,
                    0.08,
                    0.11,
                    -0.06,
                    -0.44,
                    -0.47,
                    -0.38,
                    -0.13,
                    -0.13,
                    -0.21,
                    -0.33,
                    -0.2,
                    0.07,
                    0.03,
                    0.21,
                    0.17,
                    0.3,
                    0.34,
                    0.4,
                    0.43,
                    0.27,
                    0.28,
                    0.21,
                    -0.09,
                    -0.51,
                    -0.55,
                    -0.6,
                    -0.32,
                    -0.1,
                    -0.16,
                    -0.24,
                    -0.16,
                    0.22,
                    0.2,
                    0.24,
                    0.36,
                    0.4,
                    0.22,
                    -0.03,
                    -0.03,
                    -0.02,
                    0.14,
                    0.23,
                    0.04,
                    -0.21,
                    -0.23,
                    -0.35,
                    -0.15,
                    0.15,
                    0.02,
                    -0.17,
                    -0.25,
                    -0.12,
                    -0.09,
                    -0.19,
                    -0.12,
                    0.3,
                    0.45,
                    0.4,
                    0.33,
                    0.21,
                    0.14,
                    -0.07,
                    -0.33,
                    -0.46,
                    -0.29,
                    -0.08,
                    0.02,
                    0.05,
                    0.08,
                    0.18,
                    0.35,
                    0.14,
                    0,
                    -0.19,
                    -0.31,
                    -0.21,
                    -0.25,
                    -0.15,
                    0.06,
                    0.31,
                    0.12,
                    0.12,
                    0.06,
                    0.1,
                    0.25,
                    0.11,
                    -0.08,
                    -0.34,
                    -0.24,
                    -0.04,
                    0.11,
                    0.12,
                    0.08,
                    0.15,
                    0.21,
                    0.15,
                    0,
                    -0.43,
                    -0.45,
                    -0.26,
                    -0.18,
                    0.08,
                    -0.04,
                    0.01,
                    0.33,
                    0.19,
                    0.06,
                    0.1,
                    0.02,
                    0.14,
                    0.34,
                    0.3,
                    0.01,
                    -0.15,
                    -0.02,
                    0.14,
                    -0.19,
                    -0.52,
                    -0.37,
                    -0.39,
                    -0.23,
                    0.05,
                    0.04,
                    -0.09,
                    -0.02,
                    0.22,
                    0.26,
                    0.34,
                    0.24,
                    0.15,
                    0.21,
                    0.18,
                    0.2,
                    0.2,
                    0.07,
                    -0.12,
                    -0.34,
                    -0.37,
                    -0.11,
                    -0.22,
                    -0.34,
                    -0.3,
                    -0.23,
                    -0.2,
                    -0.11,
                    -0.14,
                    0.02,
                    0.3,
                    0.29,
                    0.44,
                    0.45,
                    0.57,
                    0.52,
                    0.2,
                    0.02,
                    0.02,
                    -0.13,
                    -0.31,
                    -0.39,
                    -0.34,
                    -0.3,
                    -0.28,
                    -0.37,
                    -0.44,
                    -0.3,
                    -0.3,
                    0,
                    0.19,
                    0.24,
                    0.32,
                    0.39,
                    0.6,
                    0.69,
                    0.62,
                    0.39,
                    0.13,
                    -0.09,
                    -0.12,
                    -0.18,
                    -0.33,
                    -0.53,
                    -0.78,
                    -0.68,
                    -0.52,
                    -0.29,
                    -0.13,
                    -0.03,
                    0.09,
                    0.28,
                    0.62,
                    0.57,
                    0.14,
                    0,
                    0.32,
                    0.51,
                    0.43,
                    0.22,
                    0.12,
                    0.03,
                    -0.02,
                    -0.09,
                    -0.23,
                    -0.48,
                    -0.71,
                    -0.74,
                    -0.5,
                    -0.34,
                    -0.13,
                    0.08,
                    0.12,
                    0.28,
                    0.29,
                    0.4,
                    0.46,
                    0.5,
                    0.33,
                    0.11,
                    -0.01,
                    -0.04,
                    0.03,
                    0.06,
                    0.03,
                    0.04,
                    -0.19,
                    -0.61,
                    -0.61,
                    -0.22,
                    -0.06,
                    -0.19,
                    0.05,
                    0.16,
                    0.15,
                    0.22,
                    0.2,
                    0,
                    0.06,
                    0.18,
                    0.05,
                    -0.06,
                    -0.08,
                    -0.12,
                    0.06,
                    0.18,
                    -0.07,
                    0.03,
                    0,
                    -0.07,
                    0.18,
                    0.37,
                    0.07,
                    -0.2,
                    -0.2,
                    -0.09,
                    -0.06,
                    -0.43,
                    -0.53,
                    -0.07,
                    0.11,
                    -0.1,
                    -0.05,
                    0.06,
                    0.21,
                    0.18,
                    0.41,
                    0.63,
                    0.61,
                    0.4,
                    -0.26,
                    -0.26,
                    -0.22,
                    -0.27,
                    -0.4,
                    -0.43,
                    -0.27,
                    -0.25,
                    -0.18,
                    -0.12,
                    0.32,
                    0.25,
                    0.21,
                    0.18,
                    -0.07,
                    0.15,
                    0.46,
                    0.35,
                    0.01,
                    -0.06,
                    -0.14,
                    -0.17,
                    -0.07,
                    -0.11,
                    -0.41,
                    -0.38,
                    -0.27,
                    -0.24,
                    0.04,
                    0.31,
                    0.3,
                    0.27,
                    0.3,
                    0.45,
                    0.44,
                    0.15,
                    -0.04,
                    -0.22,
                    -0.33,
                    -0.38,
                    -0.3,
                    -0.25,
                    -0.17,
                    -0.07,
                    -0.14,
                    -0.13,
                    -0.17,
                    -0.23,
                    0.04,
                    0.26,
                    0.44,
                    0.63,
                    0.82,
                    0.74,
                    0.39,
                    -0.02,
                    -0.3,
                    -0.53,
                    -0.69,
                    -0.58,
                    -0.57,
                    -0.41,
                    -0.29,
                    -0.28,
                    -0.16,
                    0.12,
                    0.25,
                    0.36,
                    0.51,
                    0.54,
                    0.42,
                    0.37,
                    0.32,
                    0.28,
                    0.25,
                    0.04,
                    -0.16,
                    -0.44,
                    -0.56,
                    -0.68,
                    -0.64,
                    -0.25,
                    -0.14,
                    -0.29,
                    -0.12,
                    0.02,
                    0.25,
                    0.56,
                    0.45,
                    0.39,
                    0.53,
                    0.44,
                    0.2,
                    -0.07,
                    -0.21,
                    -0.2,
                    -0.19,
                    -0.33,
                    -0.23,
                    -0.09,
                    -0.24,
                    -0.03,
                    -0.01,
                    -0.18,
                    -0.09,
                    0.02,
                    -0.07,
                    -0.03,
                    0.12,
                    0.19,
                    0.36,
                    0.4,
                    0.14,
                    -0.1,
                    -0.19,
                    -0.12,
                    0.01,
                    0.01,
                    0.13,
                    0.17,
                    0.18,
                    0.03,
                    -0.34,
                    -0.44,
                    -0.25,
                    0.05,
                    0.01,
                    -0.15,
                    -0.15,
                    -0.03,
                    0.14,
                    0.17,
                    0.22,
                    0.26,
                    0.13,
                    0.01,
                    0.14,
                    0.04,
                    -0.32,
                    -0.31,
                    -0.31,
                    -0.13,
                    0.17,
                    0.3,
                    0.42,
                    0.42,
                    0.27,
                    -0.02,
                    -0.14,
                    -0.1,
                    -0.15,
                    -0.31,
                    -0.26,
                    -0.45,
                    -0.58,
                    -0.21,
                    0.09,
                    0.27,
                    0.19,
                    -0.08,
                    0.09,
                    0.27,
                    0.06,
                    0.33,
                    0.58,
                    0.43,
                    0.33,
                    0.09,
                    -0.17,
                    -0.19,
                    -0.25,
                    -0.28,
                    -0.27,
                    -0.25,
                    -0.25,
                    -0.39,
                    -0.23,
                    -0.13,
                    0,
                    0.21,
                    0.12,
                    0.21,
                    0.21,
                    0.02,
                    -0.01,
                    0.25,
                    0.32,
                    0.26,
                    0.13,
                    -0.07,
                    0.09,
                    0.18,
                    -0.02,
                    -0.16,
                    -0.27,
                    -0.43,
                    -0.36,
                    -0.34,
                    -0.21,
                    -0.17,
                    -0.11,
                    0.23,
                    0.44,
                    0.46,
                    0.27,
                    0.13,
                    0.13,
                    0,
                    -0.11,
                    -0.06,
                    -0.04,
                    0.05,
                    0.2,
                    0.33,
                    0.09,
                    -0.24,
                    -0.28,
                    -0.29,
                    -0.43,
                    -0.45,
                    -0.32,
                    -0.07,
                    -0.07,
                    -0.08,
                    0.05,
                    0.01,
                    0.31,
                    0.47,
                    0.46,
                    0.54,
                    0.56,
                    0.45,
                    0.33,
                    0.09,
                    0.11,
                    -0.1,
                    -0.45,
                    -0.58,
                    -0.8,
                    -0.89,
                    -0.82,
                    -0.63,
                    -0.52,
                    -0.1,
                    0.24,
                    0.54,
                    0.84,
                    0.88,
                    0.74,
                    0.55,
                    0.44,
                    0.14,
                    0.09,
                    0.32,
                    0.17,
                    -0.03,
                    -0.48,
                    -0.73,
                    -0.84,
                    -0.95,
                    -0.69,
                    -0.49,
                    -0.1,
                    0.18,
                    0.31,
                    0.37,
                    0.44,
                    0.42,
                    0.29,
                    0.33,
                    0.45,
                    0.27,
                    0.21,
                    0.23,
                    0.24,
                    0.05,
                    -0.21,
                    -0.28,
                    -0.27,
                    -0.31,
                    -0.63,
                    -0.68,
                    -0.53,
                    -0.35,
                    -0.4,
                    -0.25,
                    0.03,
                    0.27,
                    0.47,
                    0.63,
                    0.87,
                    0.82,
                    0.55,
                    0.53,
                    0.62,
                    0.25,
                    -0.24,
                    -0.67,
                    -0.91,
                    -0.82,
                    -0.58,
                    -0.56,
                    -0.47,
                    -0.39,
                    -0.27,
                    -0.02,
                    0.34,
                    0.63,
                    0.6,
                    0.59,
                    0.59,
                    0.43,
                    0.13,
                    0.02,
                    -0.05,
                    -0.15,
                    -0.1,
                    -0.1,
                    -0.23,
                    -0.36,
                    -0.53,
                    -0.5,
                    -0.29,
                    0.02,
                    0.35,
                    0.23,
                    0.03,
                    0.12,
                    0.24,
                    0.33,
                    0.19,
                    0.02,
                    0.19,
                    0.16,
                    -0.09,
                    -0.25,
                    -0.11,
                    -0.09,
                    -0.14,
                    -0.28,
                    -0.34,
                    -0.08,
                    -0.08,
                    0.02,
                    0.22,
                    0.1,
                    0.03,
                    0.17,
                    0.27,
                    0.41,
                    0.33,
                    0.04,
                    0,
                    -0.1,
                    -0.23,
                    -0.34,
                    -0.48,
                    -0.4,
                    -0.12,
                    0.1,
                    0.05,
                    -0.17,
                    -0.18,
                    0.24,
                    0.45,
                    0.36,
                    0.28,
                    0.35,
                    0.15,
                    -0.04,
                    0.03,
                    0.02,
                    -0.25,
                    -0.31,
                    -0.04,
                    -0.1,
                    -0.07,
                    -0.19,
                    -0.19,
                    -0.13,
                    -0.16,
                    -0.36,
                    -0.4,
                    -0.17,
                    0.13,
                    0.37,
                    0.4,
                    0.64,
                    0.52,
                    0.26,
                    0.12,
                    0.23,
                    0.31,
                    0.21,
                    0.14,
                    -0.04,
                    -0.43,
                    -0.76,
                    -0.81,
                    -0.81,
                    -0.56,
                    -0.2,
                    -0.04,
                    -0.04,
                    -0.13,
                    -0.02,
                    0.52,
                    0.8,
                    0.79,
                    0.94,
                    0.63,
                    0.09,
                    -0.01,
                    -0.03,
                    -0.19,
                    -0.36,
                    -0.25,
                    -0.27,
                    -0.39,
                    -0.41,
                    -0.19,
                    -0.21,
                    -0.35,
                    -0.33,
                    -0.16,
                    -0.06,
                    -0.06,
                    0.23,
                    0.38,
                    0.5,
                    0.55,
                    0.42,
                    0.16,
                    0.28,
                    0.27,
                    0.19,
                    0.03,
                    -0.25,
                    -0.53,
                    -0.43,
                    -0.3,
                    -0.32,
                    -0.17,
                    -0.22,
                    0.04,
                    0.13,
                    0.03,
                    -0.07,
                    -0.05,
                    -0.02,
                    0.07,
                    0.23,
                    0.32,
                    0.38,
                    0.19,
                    -0.05,
                    -0.02,
                    0.03,
                    0.28,
                    0.35,
                    -0.11,
                    -0.3,
                    -0.24,
                    -0.13,
                    -0.37,
                    -0.42,
                    -0.17,
                    -0.12,
                    -0.1,
                    0,
                    0.06,
                    -0.04,
                    -0.1,
                    0.02,
                    0.27,
                    0.38,
                    0.6,
                    0.65,
                    0.26,
                    0.02,
                    0.1,
                    0.13,
                    -0.16,
                    -0.37,
                    -0.48,
                    -0.42,
                    -0.5,
                    -0.58,
                    -0.3,
                    -0.08,
                    0.05,
                    -0.04,
                    0,
                    0.28,
                    0.44,
                    0.48,
                    0.44,
                    0.39,
                    0.4,
                    0.43,
                    0.31,
                    -0.04,
                    -0.32,
                    -0.51,
                    -0.41,
                    -0.42,
                    -0.52,
                    -0.41,
                    -0.29,
                    -0.05,
                    0.14,
                    -0.08,
                    -0.22,
                    -0.02,
                    0.28,
                    0.54,
                    0.43,
                    0.57,
                    0.56,
                    0.4,
                    0.34,
                    0.08,
                    -0.16,
                    -0.36,
                    -0.57,
                    -0.52,
                    -0.4,
                    -0.31,
                    -0.21,
                    -0.28,
                    -0.25,
                    -0.36,
                    -0.19,
                    0.08,
                    0.28,
                    0.58,
                    0.74,
                    0.39,
                    0.12,
                    0.34,
                    0.48,
                    0.55,
                    0.43,
                    0.15,
                    -0.4,
                    -0.8,
                    -0.97,
                    -1.01,
                    -0.65,
                    -0.17,
                    0.17,
                    0.28,
                    0.05,
                    0.01,
                    0.2,
                    0.2,
                    0.35,
                    0.41,
                    0.3,
                    0.25,
                    0.14,
                    0.23,
                    0.25,
                    0.17,
                    0.04,
                    -0.35,
                    -0.39,
                    -0.44,
                    -0.49,
                    -0.5,
                    -0.3,
                    0.05,
                    -0.03,
                    0.04,
                    0.21,
                    0.25,
                    0.11,
                    0.06,
                    0.06,
                    0.27,
                    0.3,
                    0.31,
                    0.36,
                    0.18,
                    0.17,
                    0.05,
                    0.01,
                    -0.28,
                    -0.47,
                    -0.48,
                    -0.48,
                    -0.47,
                    -0.44,
                    -0.05,
                    0.23,
                    0.19,
                    0.1,
                    0,
                    0.07,
                    0.5,
                    0.5,
                    0.23,
                    0.21,
                    0.18,
                    -0.03,
                    -0.05,
                    0.09,
                    0.08,
                    0.03,
                    -0.05,
                    -0.14,
                    -0.41,
                    -0.55,
                    -0.38,
                    -0.21,
                    -0.35,
                    -0.3,
                    0.02,
                    0.2,
                    0.33,
                    0.33,
                    0.32,
                    0.35,
                    0.38,
                    0.39,
                    0.26
                  ],
                  "yaxis": "y"
                }
              ],
              "layout": {
                "legend": {
                  "tracegroupgap": 0
                },
                "template": {
                  "data": {
                    "bar": [
                      {
                        "error_x": {
                          "color": "#2a3f5f"
                        },
                        "error_y": {
                          "color": "#2a3f5f"
                        },
                        "marker": {
                          "line": {
                            "color": "#E5ECF6",
                            "width": 0.5
                          }
                        },
                        "type": "bar"
                      }
                    ],
                    "barpolar": [
                      {
                        "marker": {
                          "line": {
                            "color": "#E5ECF6",
                            "width": 0.5
                          }
                        },
                        "type": "barpolar"
                      }
                    ],
                    "carpet": [
                      {
                        "aaxis": {
                          "endlinecolor": "#2a3f5f",
                          "gridcolor": "white",
                          "linecolor": "white",
                          "minorgridcolor": "white",
                          "startlinecolor": "#2a3f5f"
                        },
                        "baxis": {
                          "endlinecolor": "#2a3f5f",
                          "gridcolor": "white",
                          "linecolor": "white",
                          "minorgridcolor": "white",
                          "startlinecolor": "#2a3f5f"
                        },
                        "type": "carpet"
                      }
                    ],
                    "choropleth": [
                      {
                        "colorbar": {
                          "outlinewidth": 0,
                          "ticks": ""
                        },
                        "type": "choropleth"
                      }
                    ],
                    "contour": [
                      {
                        "colorbar": {
                          "outlinewidth": 0,
                          "ticks": ""
                        },
                        "colorscale": [
                          [
                            0,
                            "#0d0887"
                          ],
                          [
                            0.1111111111111111,
                            "#46039f"
                          ],
                          [
                            0.2222222222222222,
                            "#7201a8"
                          ],
                          [
                            0.3333333333333333,
                            "#9c179e"
                          ],
                          [
                            0.4444444444444444,
                            "#bd3786"
                          ],
                          [
                            0.5555555555555556,
                            "#d8576b"
                          ],
                          [
                            0.6666666666666666,
                            "#ed7953"
                          ],
                          [
                            0.7777777777777778,
                            "#fb9f3a"
                          ],
                          [
                            0.8888888888888888,
                            "#fdca26"
                          ],
                          [
                            1,
                            "#f0f921"
                          ]
                        ],
                        "type": "contour"
                      }
                    ],
                    "contourcarpet": [
                      {
                        "colorbar": {
                          "outlinewidth": 0,
                          "ticks": ""
                        },
                        "type": "contourcarpet"
                      }
                    ],
                    "heatmap": [
                      {
                        "colorbar": {
                          "outlinewidth": 0,
                          "ticks": ""
                        },
                        "colorscale": [
                          [
                            0,
                            "#0d0887"
                          ],
                          [
                            0.1111111111111111,
                            "#46039f"
                          ],
                          [
                            0.2222222222222222,
                            "#7201a8"
                          ],
                          [
                            0.3333333333333333,
                            "#9c179e"
                          ],
                          [
                            0.4444444444444444,
                            "#bd3786"
                          ],
                          [
                            0.5555555555555556,
                            "#d8576b"
                          ],
                          [
                            0.6666666666666666,
                            "#ed7953"
                          ],
                          [
                            0.7777777777777778,
                            "#fb9f3a"
                          ],
                          [
                            0.8888888888888888,
                            "#fdca26"
                          ],
                          [
                            1,
                            "#f0f921"
                          ]
                        ],
                        "type": "heatmap"
                      }
                    ],
                    "heatmapgl": [
                      {
                        "colorbar": {
                          "outlinewidth": 0,
                          "ticks": ""
                        },
                        "colorscale": [
                          [
                            0,
                            "#0d0887"
                          ],
                          [
                            0.1111111111111111,
                            "#46039f"
                          ],
                          [
                            0.2222222222222222,
                            "#7201a8"
                          ],
                          [
                            0.3333333333333333,
                            "#9c179e"
                          ],
                          [
                            0.4444444444444444,
                            "#bd3786"
                          ],
                          [
                            0.5555555555555556,
                            "#d8576b"
                          ],
                          [
                            0.6666666666666666,
                            "#ed7953"
                          ],
                          [
                            0.7777777777777778,
                            "#fb9f3a"
                          ],
                          [
                            0.8888888888888888,
                            "#fdca26"
                          ],
                          [
                            1,
                            "#f0f921"
                          ]
                        ],
                        "type": "heatmapgl"
                      }
                    ],
                    "histogram": [
                      {
                        "marker": {
                          "colorbar": {
                            "outlinewidth": 0,
                            "ticks": ""
                          }
                        },
                        "type": "histogram"
                      }
                    ],
                    "histogram2d": [
                      {
                        "colorbar": {
                          "outlinewidth": 0,
                          "ticks": ""
                        },
                        "colorscale": [
                          [
                            0,
                            "#0d0887"
                          ],
                          [
                            0.1111111111111111,
                            "#46039f"
                          ],
                          [
                            0.2222222222222222,
                            "#7201a8"
                          ],
                          [
                            0.3333333333333333,
                            "#9c179e"
                          ],
                          [
                            0.4444444444444444,
                            "#bd3786"
                          ],
                          [
                            0.5555555555555556,
                            "#d8576b"
                          ],
                          [
                            0.6666666666666666,
                            "#ed7953"
                          ],
                          [
                            0.7777777777777778,
                            "#fb9f3a"
                          ],
                          [
                            0.8888888888888888,
                            "#fdca26"
                          ],
                          [
                            1,
                            "#f0f921"
                          ]
                        ],
                        "type": "histogram2d"
                      }
                    ],
                    "histogram2dcontour": [
                      {
                        "colorbar": {
                          "outlinewidth": 0,
                          "ticks": ""
                        },
                        "colorscale": [
                          [
                            0,
                            "#0d0887"
                          ],
                          [
                            0.1111111111111111,
                            "#46039f"
                          ],
                          [
                            0.2222222222222222,
                            "#7201a8"
                          ],
                          [
                            0.3333333333333333,
                            "#9c179e"
                          ],
                          [
                            0.4444444444444444,
                            "#bd3786"
                          ],
                          [
                            0.5555555555555556,
                            "#d8576b"
                          ],
                          [
                            0.6666666666666666,
                            "#ed7953"
                          ],
                          [
                            0.7777777777777778,
                            "#fb9f3a"
                          ],
                          [
                            0.8888888888888888,
                            "#fdca26"
                          ],
                          [
                            1,
                            "#f0f921"
                          ]
                        ],
                        "type": "histogram2dcontour"
                      }
                    ],
                    "mesh3d": [
                      {
                        "colorbar": {
                          "outlinewidth": 0,
                          "ticks": ""
                        },
                        "type": "mesh3d"
                      }
                    ],
                    "parcoords": [
                      {
                        "line": {
                          "colorbar": {
                            "outlinewidth": 0,
                            "ticks": ""
                          }
                        },
                        "type": "parcoords"
                      }
                    ],
                    "pie": [
                      {
                        "automargin": true,
                        "type": "pie"
                      }
                    ],
                    "scatter": [
                      {
                        "marker": {
                          "colorbar": {
                            "outlinewidth": 0,
                            "ticks": ""
                          }
                        },
                        "type": "scatter"
                      }
                    ],
                    "scatter3d": [
                      {
                        "line": {
                          "colorbar": {
                            "outlinewidth": 0,
                            "ticks": ""
                          }
                        },
                        "marker": {
                          "colorbar": {
                            "outlinewidth": 0,
                            "ticks": ""
                          }
                        },
                        "type": "scatter3d"
                      }
                    ],
                    "scattercarpet": [
                      {
                        "marker": {
                          "colorbar": {
                            "outlinewidth": 0,
                            "ticks": ""
                          }
                        },
                        "type": "scattercarpet"
                      }
                    ],
                    "scattergeo": [
                      {
                        "marker": {
                          "colorbar": {
                            "outlinewidth": 0,
                            "ticks": ""
                          }
                        },
                        "type": "scattergeo"
                      }
                    ],
                    "scattergl": [
                      {
                        "marker": {
                          "colorbar": {
                            "outlinewidth": 0,
                            "ticks": ""
                          }
                        },
                        "type": "scattergl"
                      }
                    ],
                    "scattermapbox": [
                      {
                        "marker": {
                          "colorbar": {
                            "outlinewidth": 0,
                            "ticks": ""
                          }
                        },
                        "type": "scattermapbox"
                      }
                    ],
                    "scatterpolar": [
                      {
                        "marker": {
                          "colorbar": {
                            "outlinewidth": 0,
                            "ticks": ""
                          }
                        },
                        "type": "scatterpolar"
                      }
                    ],
                    "scatterpolargl": [
                      {
                        "marker": {
                          "colorbar": {
                            "outlinewidth": 0,
                            "ticks": ""
                          }
                        },
                        "type": "scatterpolargl"
                      }
                    ],
                    "scatterternary": [
                      {
                        "marker": {
                          "colorbar": {
                            "outlinewidth": 0,
                            "ticks": ""
                          }
                        },
                        "type": "scatterternary"
                      }
                    ],
                    "surface": [
                      {
                        "colorbar": {
                          "outlinewidth": 0,
                          "ticks": ""
                        },
                        "colorscale": [
                          [
                            0,
                            "#0d0887"
                          ],
                          [
                            0.1111111111111111,
                            "#46039f"
                          ],
                          [
                            0.2222222222222222,
                            "#7201a8"
                          ],
                          [
                            0.3333333333333333,
                            "#9c179e"
                          ],
                          [
                            0.4444444444444444,
                            "#bd3786"
                          ],
                          [
                            0.5555555555555556,
                            "#d8576b"
                          ],
                          [
                            0.6666666666666666,
                            "#ed7953"
                          ],
                          [
                            0.7777777777777778,
                            "#fb9f3a"
                          ],
                          [
                            0.8888888888888888,
                            "#fdca26"
                          ],
                          [
                            1,
                            "#f0f921"
                          ]
                        ],
                        "type": "surface"
                      }
                    ],
                    "table": [
                      {
                        "cells": {
                          "fill": {
                            "color": "#EBF0F8"
                          },
                          "line": {
                            "color": "white"
                          }
                        },
                        "header": {
                          "fill": {
                            "color": "#C8D4E3"
                          },
                          "line": {
                            "color": "white"
                          }
                        },
                        "type": "table"
                      }
                    ]
                  },
                  "layout": {
                    "annotationdefaults": {
                      "arrowcolor": "#2a3f5f",
                      "arrowhead": 0,
                      "arrowwidth": 1
                    },
                    "coloraxis": {
                      "colorbar": {
                        "outlinewidth": 0,
                        "ticks": ""
                      }
                    },
                    "colorscale": {
                      "diverging": [
                        [
                          0,
                          "#8e0152"
                        ],
                        [
                          0.1,
                          "#c51b7d"
                        ],
                        [
                          0.2,
                          "#de77ae"
                        ],
                        [
                          0.3,
                          "#f1b6da"
                        ],
                        [
                          0.4,
                          "#fde0ef"
                        ],
                        [
                          0.5,
                          "#f7f7f7"
                        ],
                        [
                          0.6,
                          "#e6f5d0"
                        ],
                        [
                          0.7,
                          "#b8e186"
                        ],
                        [
                          0.8,
                          "#7fbc41"
                        ],
                        [
                          0.9,
                          "#4d9221"
                        ],
                        [
                          1,
                          "#276419"
                        ]
                      ],
                      "sequential": [
                        [
                          0,
                          "#0d0887"
                        ],
                        [
                          0.1111111111111111,
                          "#46039f"
                        ],
                        [
                          0.2222222222222222,
                          "#7201a8"
                        ],
                        [
                          0.3333333333333333,
                          "#9c179e"
                        ],
                        [
                          0.4444444444444444,
                          "#bd3786"
                        ],
                        [
                          0.5555555555555556,
                          "#d8576b"
                        ],
                        [
                          0.6666666666666666,
                          "#ed7953"
                        ],
                        [
                          0.7777777777777778,
                          "#fb9f3a"
                        ],
                        [
                          0.8888888888888888,
                          "#fdca26"
                        ],
                        [
                          1,
                          "#f0f921"
                        ]
                      ],
                      "sequentialminus": [
                        [
                          0,
                          "#0d0887"
                        ],
                        [
                          0.1111111111111111,
                          "#46039f"
                        ],
                        [
                          0.2222222222222222,
                          "#7201a8"
                        ],
                        [
                          0.3333333333333333,
                          "#9c179e"
                        ],
                        [
                          0.4444444444444444,
                          "#bd3786"
                        ],
                        [
                          0.5555555555555556,
                          "#d8576b"
                        ],
                        [
                          0.6666666666666666,
                          "#ed7953"
                        ],
                        [
                          0.7777777777777778,
                          "#fb9f3a"
                        ],
                        [
                          0.8888888888888888,
                          "#fdca26"
                        ],
                        [
                          1,
                          "#f0f921"
                        ]
                      ]
                    },
                    "colorway": [
                      "#636efa",
                      "#EF553B",
                      "#00cc96",
                      "#ab63fa",
                      "#FFA15A",
                      "#19d3f3",
                      "#FF6692",
                      "#B6E880",
                      "#FF97FF",
                      "#FECB52"
                    ],
                    "font": {
                      "color": "#2a3f5f"
                    },
                    "geo": {
                      "bgcolor": "white",
                      "lakecolor": "white",
                      "landcolor": "#E5ECF6",
                      "showlakes": true,
                      "showland": true,
                      "subunitcolor": "white"
                    },
                    "hoverlabel": {
                      "align": "left"
                    },
                    "hovermode": "closest",
                    "mapbox": {
                      "style": "light"
                    },
                    "paper_bgcolor": "white",
                    "plot_bgcolor": "#E5ECF6",
                    "polar": {
                      "angularaxis": {
                        "gridcolor": "white",
                        "linecolor": "white",
                        "ticks": ""
                      },
                      "bgcolor": "#E5ECF6",
                      "radialaxis": {
                        "gridcolor": "white",
                        "linecolor": "white",
                        "ticks": ""
                      }
                    },
                    "scene": {
                      "xaxis": {
                        "backgroundcolor": "#E5ECF6",
                        "gridcolor": "white",
                        "gridwidth": 2,
                        "linecolor": "white",
                        "showbackground": true,
                        "ticks": "",
                        "zerolinecolor": "white"
                      },
                      "yaxis": {
                        "backgroundcolor": "#E5ECF6",
                        "gridcolor": "white",
                        "gridwidth": 2,
                        "linecolor": "white",
                        "showbackground": true,
                        "ticks": "",
                        "zerolinecolor": "white"
                      },
                      "zaxis": {
                        "backgroundcolor": "#E5ECF6",
                        "gridcolor": "white",
                        "gridwidth": 2,
                        "linecolor": "white",
                        "showbackground": true,
                        "ticks": "",
                        "zerolinecolor": "white"
                      }
                    },
                    "shapedefaults": {
                      "line": {
                        "color": "#2a3f5f"
                      }
                    },
                    "ternary": {
                      "aaxis": {
                        "gridcolor": "white",
                        "linecolor": "white",
                        "ticks": ""
                      },
                      "baxis": {
                        "gridcolor": "white",
                        "linecolor": "white",
                        "ticks": ""
                      },
                      "bgcolor": "#E5ECF6",
                      "caxis": {
                        "gridcolor": "white",
                        "linecolor": "white",
                        "ticks": ""
                      }
                    },
                    "title": {
                      "x": 0.05
                    },
                    "xaxis": {
                      "automargin": true,
                      "gridcolor": "white",
                      "linecolor": "white",
                      "ticks": "",
                      "title": {
                        "standoff": 15
                      },
                      "zerolinecolor": "white",
                      "zerolinewidth": 2
                    },
                    "yaxis": {
                      "automargin": true,
                      "gridcolor": "white",
                      "linecolor": "white",
                      "ticks": "",
                      "title": {
                        "standoff": 15
                      },
                      "zerolinecolor": "white",
                      "zerolinewidth": 2
                    }
                  }
                },
                "title": {
                  "text": "Time vs Displacement "
                },
                "xaxis": {
                  "anchor": "y",
                  "domain": [
                    0,
                    1
                  ],
                  "rangeselector": {
                    "buttons": [
                      {
                        "count": 1,
                        "label": "1h",
                        "step": "hour",
                        "stepmode": "backward"
                      },
                      {
                        "count": 2,
                        "label": "3h",
                        "step": "hour",
                        "stepmode": "backward"
                      },
                      {
                        "count": 3,
                        "label": "5h",
                        "step": "hour",
                        "stepmode": "backward"
                      },
                      {
                        "step": "all"
                      }
                    ]
                  },
                  "rangeslider": {
                    "visible": true
                  },
                  "title": {
                    "text": "Time"
                  }
                },
                "yaxis": {
                  "anchor": "x",
                  "domain": [
                    0,
                    1
                  ],
                  "title": {
                    "text": "ZDisplacement"
                  }
                }
              }
            },
            "text/html": [
              "<div>                            <div id=\"d753b7e9-1f1e-496a-a27f-9429cef40f3e\" class=\"plotly-graph-div\" style=\"height:525px; width:100%;\"></div>            <script type=\"text/javascript\">                require([\"plotly\"], function(Plotly) {                    window.PLOTLYENV=window.PLOTLYENV || {};                                    if (document.getElementById(\"d753b7e9-1f1e-496a-a27f-9429cef40f3e\")) {                    Plotly.newPlot(                        \"d753b7e9-1f1e-496a-a27f-9429cef40f3e\",                        [{\"hovertemplate\": \"Time=%{x}<br>ZDisplacement=%{y}<extra></extra>\", \"legendgroup\": \"\", \"line\": {\"color\": \"#636efa\", \"dash\": \"solid\"}, \"mode\": \"lines\", \"name\": \"\", \"showlegend\": false, \"type\": \"scattergl\", \"x\": [0, 1, 2, 3, 4, 5, 6, 7, 8, 9, 10, 11, 12, 13, 14, 15, 16, 17, 18, 19, 20, 21, 22, 23, 24, 25, 26, 27, 28, 29, 30, 31, 32, 33, 34, 35, 36, 37, 38, 39, 40, 41, 42, 43, 44, 45, 46, 47, 48, 49, 50, 51, 52, 53, 54, 55, 56, 57, 58, 59, 60, 61, 62, 63, 64, 65, 66, 67, 68, 69, 70, 71, 72, 73, 74, 75, 76, 77, 78, 79, 80, 81, 82, 83, 84, 85, 86, 87, 88, 89, 90, 91, 92, 93, 94, 95, 96, 97, 98, 99, 100, 101, 102, 103, 104, 105, 106, 107, 108, 109, 110, 111, 112, 113, 114, 115, 116, 117, 118, 119, 120, 121, 122, 123, 124, 125, 126, 127, 128, 129, 130, 131, 132, 133, 134, 135, 136, 137, 138, 139, 140, 141, 142, 143, 144, 145, 146, 147, 148, 149, 150, 151, 152, 153, 154, 155, 156, 157, 158, 159, 160, 161, 162, 163, 164, 165, 166, 167, 168, 169, 170, 171, 172, 173, 174, 175, 176, 177, 178, 179, 180, 181, 182, 183, 184, 185, 186, 187, 188, 189, 190, 191, 192, 193, 194, 195, 196, 197, 198, 199, 200, 201, 202, 203, 204, 205, 206, 207, 208, 209, 210, 211, 212, 213, 214, 215, 216, 217, 218, 219, 220, 221, 222, 223, 224, 225, 226, 227, 228, 229, 230, 231, 232, 233, 234, 235, 236, 237, 238, 239, 240, 241, 242, 243, 244, 245, 246, 247, 248, 249, 250, 251, 252, 253, 254, 255, 256, 257, 258, 259, 260, 261, 262, 263, 264, 265, 266, 267, 268, 269, 270, 271, 272, 273, 274, 275, 276, 277, 278, 279, 280, 281, 282, 283, 284, 285, 286, 287, 288, 289, 290, 291, 292, 293, 294, 295, 296, 297, 298, 299, 300, 301, 302, 303, 304, 305, 306, 307, 308, 309, 310, 311, 312, 313, 314, 315, 316, 317, 318, 319, 320, 321, 322, 323, 324, 325, 326, 327, 328, 329, 330, 331, 332, 333, 334, 335, 336, 337, 338, 339, 340, 341, 342, 343, 344, 345, 346, 347, 348, 349, 350, 351, 352, 353, 354, 355, 356, 357, 358, 359, 360, 361, 362, 363, 364, 365, 366, 367, 368, 369, 370, 371, 372, 373, 374, 375, 376, 377, 378, 379, 380, 381, 382, 383, 384, 385, 386, 387, 388, 389, 390, 391, 392, 393, 394, 395, 396, 397, 398, 399, 400, 401, 402, 403, 404, 405, 406, 407, 408, 409, 410, 411, 412, 413, 414, 415, 416, 417, 418, 419, 420, 421, 422, 423, 424, 425, 426, 427, 428, 429, 430, 431, 432, 433, 434, 435, 436, 437, 438, 439, 440, 441, 442, 443, 444, 445, 446, 447, 448, 449, 450, 451, 452, 453, 454, 455, 456, 457, 458, 459, 460, 461, 462, 463, 464, 465, 466, 467, 468, 469, 470, 471, 472, 473, 474, 475, 476, 477, 478, 479, 480, 481, 482, 483, 484, 485, 486, 487, 488, 489, 490, 491, 492, 493, 494, 495, 496, 497, 498, 499, 500, 501, 502, 503, 504, 505, 506, 507, 508, 509, 510, 511, 512, 513, 514, 515, 516, 517, 518, 519, 520, 521, 522, 523, 524, 525, 526, 527, 528, 529, 530, 531, 532, 533, 534, 535, 536, 537, 538, 539, 540, 541, 542, 543, 544, 545, 546, 547, 548, 549, 550, 551, 552, 553, 554, 555, 556, 557, 558, 559, 560, 561, 562, 563, 564, 565, 566, 567, 568, 569, 570, 571, 572, 573, 574, 575, 576, 577, 578, 579, 580, 581, 582, 583, 584, 585, 586, 587, 588, 589, 590, 591, 592, 593, 594, 595, 596, 597, 598, 599, 600, 601, 602, 603, 604, 605, 606, 607, 608, 609, 610, 611, 612, 613, 614, 615, 616, 617, 618, 619, 620, 621, 622, 623, 624, 625, 626, 627, 628, 629, 630, 631, 632, 633, 634, 635, 636, 637, 638, 639, 640, 641, 642, 643, 644, 645, 646, 647, 648, 649, 650, 651, 652, 653, 654, 655, 656, 657, 658, 659, 660, 661, 662, 663, 664, 665, 666, 667, 668, 669, 670, 671, 672, 673, 674, 675, 676, 677, 678, 679, 680, 681, 682, 683, 684, 685, 686, 687, 688, 689, 690, 691, 692, 693, 694, 695, 696, 697, 698, 699, 700, 701, 702, 703, 704, 705, 706, 707, 708, 709, 710, 711, 712, 713, 714, 715, 716, 717, 718, 719, 720, 721, 722, 723, 724, 725, 726, 727, 728, 729, 730, 731, 732, 733, 734, 735, 736, 737, 738, 739, 740, 741, 742, 743, 744, 745, 746, 747, 748, 749, 750, 751, 752, 753, 754, 755, 756, 757, 758, 759, 760, 761, 762, 763, 764, 765, 766, 767, 768, 769, 770, 771, 772, 773, 774, 775, 776, 777, 778, 779, 780, 781, 782, 783, 784, 785, 786, 787, 788, 789, 790, 791, 792, 793, 794, 795, 796, 797, 798, 799, 800, 801, 802, 803, 804, 805, 806, 807, 808, 809, 810, 811, 812, 813, 814, 815, 816, 817, 818, 819, 820, 821, 822, 823, 824, 825, 826, 827, 828, 829, 830, 831, 832, 833, 834, 835, 836, 837, 838, 839, 840, 841, 842, 843, 844, 845, 846, 847, 848, 849, 850, 851, 852, 853, 854, 855, 856, 857, 858, 859, 860, 861, 862, 863, 864, 865, 866, 867, 868, 869, 870, 871, 872, 873, 874, 875, 876, 877, 878, 879, 880, 881, 882, 883, 884, 885, 886, 887, 888, 889, 890, 891, 892, 893, 894, 895, 896, 897, 898, 899, 900, 901, 902, 903, 904, 905, 906, 907, 908, 909, 910, 911, 912, 913, 914, 915, 916, 917, 918, 919, 920, 921, 922, 923, 924, 925, 926, 927, 928, 929, 930, 931, 932, 933, 934, 935, 936, 937, 938, 939, 940, 941, 942, 943, 944, 945, 946, 947, 948, 949, 950, 951, 952, 953, 954, 955, 956, 957, 958, 959, 960, 961, 962, 963, 964, 965, 966, 967, 968, 969, 970, 971, 972, 973, 974, 975, 976, 977, 978, 979, 980, 981, 982, 983, 984, 985, 986, 987, 988, 989, 990, 991, 992, 993, 994, 995, 996, 997, 998, 999, 1000, 1001], \"xaxis\": \"x\", \"y\": [0.59, 0.57, 0.47, 0.46, 0.34, 0.14, -0.04, -0.15, -0.37, -0.5, -0.44, -0.47, -0.37, -0.41, -0.23, -0.19, 0.01, 0.38, 0.21, 0.33, 0.75, 0.78, 0.51, 0.05, -0.35, -0.29, -0.04, 0.17, 0.14, -0.04, -0.51, -0.69, -0.58, -0.26, 0.09, -0.12, -0.16, -0.14, -0.06, 0.13, 0.15, 0.46, 0.66, 0.64, 0.62, 0.3, 0.1, 0.08, 0.02, -0.36, -0.43, -0.42, -0.67, -0.72, -0.48, -0.11, -0.02, -0.05, 0.05, 0.34, 0.44, 0.24, 0.29, 0.36, 0.14, 0.25, 0.38, 0.31, 0.19, -0.01, -0.37, -0.35, -0.22, -0.52, -0.64, -0.5, -0.22, -0.06, -0.04, 0.11, 0.44, 0.36, 0.25, 0.34, 0.46, 0.48, 0.36, 0.24, -0.19, -0.4, -0.38, -0.38, -0.29, -0.27, -0.23, -0.28, -0.24, -0.07, 0.18, 0.14, 0.0, 0.26, 0.31, 0.14, 0.12, 0.29, 0.26, 0.19, 0.22, 0.08, 0.11, -0.06, -0.44, -0.47, -0.38, -0.13, -0.13, -0.21, -0.33, -0.2, 0.07, 0.03, 0.21, 0.17, 0.3, 0.34, 0.4, 0.43, 0.27, 0.28, 0.21, -0.09, -0.51, -0.55, -0.6, -0.32, -0.1, -0.16, -0.24, -0.16, 0.22, 0.2, 0.24, 0.36, 0.4, 0.22, -0.03, -0.03, -0.02, 0.14, 0.23, 0.04, -0.21, -0.23, -0.35, -0.15, 0.15, 0.02, -0.17, -0.25, -0.12, -0.09, -0.19, -0.12, 0.3, 0.45, 0.4, 0.33, 0.21, 0.14, -0.07, -0.33, -0.46, -0.29, -0.08, 0.02, 0.05, 0.08, 0.18, 0.35, 0.14, 0.0, -0.19, -0.31, -0.21, -0.25, -0.15, 0.06, 0.31, 0.12, 0.12, 0.06, 0.1, 0.25, 0.11, -0.08, -0.34, -0.24, -0.04, 0.11, 0.12, 0.08, 0.15, 0.21, 0.15, 0.0, -0.43, -0.45, -0.26, -0.18, 0.08, -0.04, 0.01, 0.33, 0.19, 0.06, 0.1, 0.02, 0.14, 0.34, 0.3, 0.01, -0.15, -0.02, 0.14, -0.19, -0.52, -0.37, -0.39, -0.23, 0.05, 0.04, -0.09, -0.02, 0.22, 0.26, 0.34, 0.24, 0.15, 0.21, 0.18, 0.2, 0.2, 0.07, -0.12, -0.34, -0.37, -0.11, -0.22, -0.34, -0.3, -0.23, -0.2, -0.11, -0.14, 0.02, 0.3, 0.29, 0.44, 0.45, 0.57, 0.52, 0.2, 0.02, 0.02, -0.13, -0.31, -0.39, -0.34, -0.3, -0.28, -0.37, -0.44, -0.3, -0.3, 0.0, 0.19, 0.24, 0.32, 0.39, 0.6, 0.69, 0.62, 0.39, 0.13, -0.09, -0.12, -0.18, -0.33, -0.53, -0.78, -0.68, -0.52, -0.29, -0.13, -0.03, 0.09, 0.28, 0.62, 0.57, 0.14, 0.0, 0.32, 0.51, 0.43, 0.22, 0.12, 0.03, -0.02, -0.09, -0.23, -0.48, -0.71, -0.74, -0.5, -0.34, -0.13, 0.08, 0.12, 0.28, 0.29, 0.4, 0.46, 0.5, 0.33, 0.11, -0.01, -0.04, 0.03, 0.06, 0.03, 0.04, -0.19, -0.61, -0.61, -0.22, -0.06, -0.19, 0.05, 0.16, 0.15, 0.22, 0.2, 0.0, 0.06, 0.18, 0.05, -0.06, -0.08, -0.12, 0.06, 0.18, -0.07, 0.03, 0.0, -0.07, 0.18, 0.37, 0.07, -0.2, -0.2, -0.09, -0.06, -0.43, -0.53, -0.07, 0.11, -0.1, -0.05, 0.06, 0.21, 0.18, 0.41, 0.63, 0.61, 0.4, -0.26, -0.26, -0.22, -0.27, -0.4, -0.43, -0.27, -0.25, -0.18, -0.12, 0.32, 0.25, 0.21, 0.18, -0.07, 0.15, 0.46, 0.35, 0.01, -0.06, -0.14, -0.17, -0.07, -0.11, -0.41, -0.38, -0.27, -0.24, 0.04, 0.31, 0.3, 0.27, 0.3, 0.45, 0.44, 0.15, -0.04, -0.22, -0.33, -0.38, -0.3, -0.25, -0.17, -0.07, -0.14, -0.13, -0.17, -0.23, 0.04, 0.26, 0.44, 0.63, 0.82, 0.74, 0.39, -0.02, -0.3, -0.53, -0.69, -0.58, -0.57, -0.41, -0.29, -0.28, -0.16, 0.12, 0.25, 0.36, 0.51, 0.54, 0.42, 0.37, 0.32, 0.28, 0.25, 0.04, -0.16, -0.44, -0.56, -0.68, -0.64, -0.25, -0.14, -0.29, -0.12, 0.02, 0.25, 0.56, 0.45, 0.39, 0.53, 0.44, 0.2, -0.07, -0.21, -0.2, -0.19, -0.33, -0.23, -0.09, -0.24, -0.03, -0.01, -0.18, -0.09, 0.02, -0.07, -0.03, 0.12, 0.19, 0.36, 0.4, 0.14, -0.1, -0.19, -0.12, 0.01, 0.01, 0.13, 0.17, 0.18, 0.03, -0.34, -0.44, -0.25, 0.05, 0.01, -0.15, -0.15, -0.03, 0.14, 0.17, 0.22, 0.26, 0.13, 0.01, 0.14, 0.04, -0.32, -0.31, -0.31, -0.13, 0.17, 0.3, 0.42, 0.42, 0.27, -0.02, -0.14, -0.1, -0.15, -0.31, -0.26, -0.45, -0.58, -0.21, 0.09, 0.27, 0.19, -0.08, 0.09, 0.27, 0.06, 0.33, 0.58, 0.43, 0.33, 0.09, -0.17, -0.19, -0.25, -0.28, -0.27, -0.25, -0.25, -0.39, -0.23, -0.13, 0.0, 0.21, 0.12, 0.21, 0.21, 0.02, -0.01, 0.25, 0.32, 0.26, 0.13, -0.07, 0.09, 0.18, -0.02, -0.16, -0.27, -0.43, -0.36, -0.34, -0.21, -0.17, -0.11, 0.23, 0.44, 0.46, 0.27, 0.13, 0.13, 0.0, -0.11, -0.06, -0.04, 0.05, 0.2, 0.33, 0.09, -0.24, -0.28, -0.29, -0.43, -0.45, -0.32, -0.07, -0.07, -0.08, 0.05, 0.01, 0.31, 0.47, 0.46, 0.54, 0.56, 0.45, 0.33, 0.09, 0.11, -0.1, -0.45, -0.58, -0.8, -0.89, -0.82, -0.63, -0.52, -0.1, 0.24, 0.54, 0.84, 0.88, 0.74, 0.55, 0.44, 0.14, 0.09, 0.32, 0.17, -0.03, -0.48, -0.73, -0.84, -0.95, -0.69, -0.49, -0.1, 0.18, 0.31, 0.37, 0.44, 0.42, 0.29, 0.33, 0.45, 0.27, 0.21, 0.23, 0.24, 0.05, -0.21, -0.28, -0.27, -0.31, -0.63, -0.68, -0.53, -0.35, -0.4, -0.25, 0.03, 0.27, 0.47, 0.63, 0.87, 0.82, 0.55, 0.53, 0.62, 0.25, -0.24, -0.67, -0.91, -0.82, -0.58, -0.56, -0.47, -0.39, -0.27, -0.02, 0.34, 0.63, 0.6, 0.59, 0.59, 0.43, 0.13, 0.02, -0.05, -0.15, -0.1, -0.1, -0.23, -0.36, -0.53, -0.5, -0.29, 0.02, 0.35, 0.23, 0.03, 0.12, 0.24, 0.33, 0.19, 0.02, 0.19, 0.16, -0.09, -0.25, -0.11, -0.09, -0.14, -0.28, -0.34, -0.08, -0.08, 0.02, 0.22, 0.1, 0.03, 0.17, 0.27, 0.41, 0.33, 0.04, 0.0, -0.1, -0.23, -0.34, -0.48, -0.4, -0.12, 0.1, 0.05, -0.17, -0.18, 0.24, 0.45, 0.36, 0.28, 0.35, 0.15, -0.04, 0.03, 0.02, -0.25, -0.31, -0.04, -0.1, -0.07, -0.19, -0.19, -0.13, -0.16, -0.36, -0.4, -0.17, 0.13, 0.37, 0.4, 0.64, 0.52, 0.26, 0.12, 0.23, 0.31, 0.21, 0.14, -0.04, -0.43, -0.76, -0.81, -0.81, -0.56, -0.2, -0.04, -0.04, -0.13, -0.02, 0.52, 0.8, 0.79, 0.94, 0.63, 0.09, -0.01, -0.03, -0.19, -0.36, -0.25, -0.27, -0.39, -0.41, -0.19, -0.21, -0.35, -0.33, -0.16, -0.06, -0.06, 0.23, 0.38, 0.5, 0.55, 0.42, 0.16, 0.28, 0.27, 0.19, 0.03, -0.25, -0.53, -0.43, -0.3, -0.32, -0.17, -0.22, 0.04, 0.13, 0.03, -0.07, -0.05, -0.02, 0.07, 0.23, 0.32, 0.38, 0.19, -0.05, -0.02, 0.03, 0.28, 0.35, -0.11, -0.3, -0.24, -0.13, -0.37, -0.42, -0.17, -0.12, -0.1, 0.0, 0.06, -0.04, -0.1, 0.02, 0.27, 0.38, 0.6, 0.65, 0.26, 0.02, 0.1, 0.13, -0.16, -0.37, -0.48, -0.42, -0.5, -0.58, -0.3, -0.08, 0.05, -0.04, 0.0, 0.28, 0.44, 0.48, 0.44, 0.39, 0.4, 0.43, 0.31, -0.04, -0.32, -0.51, -0.41, -0.42, -0.52, -0.41, -0.29, -0.05, 0.14, -0.08, -0.22, -0.02, 0.28, 0.54, 0.43, 0.57, 0.56, 0.4, 0.34, 0.08, -0.16, -0.36, -0.57, -0.52, -0.4, -0.31, -0.21, -0.28, -0.25, -0.36, -0.19, 0.08, 0.28, 0.58, 0.74, 0.39, 0.12, 0.34, 0.48, 0.55, 0.43, 0.15, -0.4, -0.8, -0.97, -1.01, -0.65, -0.17, 0.17, 0.28, 0.05, 0.01, 0.2, 0.2, 0.35, 0.41, 0.3, 0.25, 0.14, 0.23, 0.25, 0.17, 0.04, -0.35, -0.39, -0.44, -0.49, -0.5, -0.3, 0.05, -0.03, 0.04, 0.21, 0.25, 0.11, 0.06, 0.06, 0.27, 0.3, 0.31, 0.36, 0.18, 0.17, 0.05, 0.01, -0.28, -0.47, -0.48, -0.48, -0.47, -0.44, -0.05, 0.23, 0.19, 0.1, 0.0, 0.07, 0.5, 0.5, 0.23, 0.21, 0.18, -0.03, -0.05, 0.09, 0.08, 0.03, -0.05, -0.14, -0.41, -0.55, -0.38, -0.21, -0.35, -0.3, 0.02, 0.2, 0.33, 0.33, 0.32, 0.35, 0.38, 0.39, 0.26], \"yaxis\": \"y\"}],                        {\"legend\": {\"tracegroupgap\": 0}, \"template\": {\"data\": {\"bar\": [{\"error_x\": {\"color\": \"#2a3f5f\"}, \"error_y\": {\"color\": \"#2a3f5f\"}, \"marker\": {\"line\": {\"color\": \"#E5ECF6\", \"width\": 0.5}}, \"type\": \"bar\"}], \"barpolar\": [{\"marker\": {\"line\": {\"color\": \"#E5ECF6\", \"width\": 0.5}}, \"type\": \"barpolar\"}], \"carpet\": [{\"aaxis\": {\"endlinecolor\": \"#2a3f5f\", \"gridcolor\": \"white\", \"linecolor\": \"white\", \"minorgridcolor\": \"white\", \"startlinecolor\": \"#2a3f5f\"}, \"baxis\": {\"endlinecolor\": \"#2a3f5f\", \"gridcolor\": \"white\", \"linecolor\": \"white\", \"minorgridcolor\": \"white\", \"startlinecolor\": \"#2a3f5f\"}, \"type\": \"carpet\"}], \"choropleth\": [{\"colorbar\": {\"outlinewidth\": 0, \"ticks\": \"\"}, \"type\": \"choropleth\"}], \"contour\": [{\"colorbar\": {\"outlinewidth\": 0, \"ticks\": \"\"}, \"colorscale\": [[0.0, \"#0d0887\"], [0.1111111111111111, \"#46039f\"], [0.2222222222222222, \"#7201a8\"], [0.3333333333333333, \"#9c179e\"], [0.4444444444444444, \"#bd3786\"], [0.5555555555555556, \"#d8576b\"], [0.6666666666666666, \"#ed7953\"], [0.7777777777777778, \"#fb9f3a\"], [0.8888888888888888, \"#fdca26\"], [1.0, \"#f0f921\"]], \"type\": \"contour\"}], \"contourcarpet\": [{\"colorbar\": {\"outlinewidth\": 0, \"ticks\": \"\"}, \"type\": \"contourcarpet\"}], \"heatmap\": [{\"colorbar\": {\"outlinewidth\": 0, \"ticks\": \"\"}, \"colorscale\": [[0.0, \"#0d0887\"], [0.1111111111111111, \"#46039f\"], [0.2222222222222222, \"#7201a8\"], [0.3333333333333333, \"#9c179e\"], [0.4444444444444444, \"#bd3786\"], [0.5555555555555556, \"#d8576b\"], [0.6666666666666666, \"#ed7953\"], [0.7777777777777778, \"#fb9f3a\"], [0.8888888888888888, \"#fdca26\"], [1.0, \"#f0f921\"]], \"type\": \"heatmap\"}], \"heatmapgl\": [{\"colorbar\": {\"outlinewidth\": 0, \"ticks\": \"\"}, \"colorscale\": [[0.0, \"#0d0887\"], [0.1111111111111111, \"#46039f\"], [0.2222222222222222, \"#7201a8\"], [0.3333333333333333, \"#9c179e\"], [0.4444444444444444, \"#bd3786\"], [0.5555555555555556, \"#d8576b\"], [0.6666666666666666, \"#ed7953\"], [0.7777777777777778, \"#fb9f3a\"], [0.8888888888888888, \"#fdca26\"], [1.0, \"#f0f921\"]], \"type\": \"heatmapgl\"}], \"histogram\": [{\"marker\": {\"colorbar\": {\"outlinewidth\": 0, \"ticks\": \"\"}}, \"type\": \"histogram\"}], \"histogram2d\": [{\"colorbar\": {\"outlinewidth\": 0, \"ticks\": \"\"}, \"colorscale\": [[0.0, \"#0d0887\"], [0.1111111111111111, \"#46039f\"], [0.2222222222222222, \"#7201a8\"], [0.3333333333333333, \"#9c179e\"], [0.4444444444444444, \"#bd3786\"], [0.5555555555555556, \"#d8576b\"], [0.6666666666666666, \"#ed7953\"], [0.7777777777777778, \"#fb9f3a\"], [0.8888888888888888, \"#fdca26\"], [1.0, \"#f0f921\"]], \"type\": \"histogram2d\"}], \"histogram2dcontour\": [{\"colorbar\": {\"outlinewidth\": 0, \"ticks\": \"\"}, \"colorscale\": [[0.0, \"#0d0887\"], [0.1111111111111111, \"#46039f\"], [0.2222222222222222, \"#7201a8\"], [0.3333333333333333, \"#9c179e\"], [0.4444444444444444, \"#bd3786\"], [0.5555555555555556, \"#d8576b\"], [0.6666666666666666, \"#ed7953\"], [0.7777777777777778, \"#fb9f3a\"], [0.8888888888888888, \"#fdca26\"], [1.0, \"#f0f921\"]], \"type\": \"histogram2dcontour\"}], \"mesh3d\": [{\"colorbar\": {\"outlinewidth\": 0, \"ticks\": \"\"}, \"type\": \"mesh3d\"}], \"parcoords\": [{\"line\": {\"colorbar\": {\"outlinewidth\": 0, \"ticks\": \"\"}}, \"type\": \"parcoords\"}], \"pie\": [{\"automargin\": true, \"type\": \"pie\"}], \"scatter\": [{\"marker\": {\"colorbar\": {\"outlinewidth\": 0, \"ticks\": \"\"}}, \"type\": \"scatter\"}], \"scatter3d\": [{\"line\": {\"colorbar\": {\"outlinewidth\": 0, \"ticks\": \"\"}}, \"marker\": {\"colorbar\": {\"outlinewidth\": 0, \"ticks\": \"\"}}, \"type\": \"scatter3d\"}], \"scattercarpet\": [{\"marker\": {\"colorbar\": {\"outlinewidth\": 0, \"ticks\": \"\"}}, \"type\": \"scattercarpet\"}], \"scattergeo\": [{\"marker\": {\"colorbar\": {\"outlinewidth\": 0, \"ticks\": \"\"}}, \"type\": \"scattergeo\"}], \"scattergl\": [{\"marker\": {\"colorbar\": {\"outlinewidth\": 0, \"ticks\": \"\"}}, \"type\": \"scattergl\"}], \"scattermapbox\": [{\"marker\": {\"colorbar\": {\"outlinewidth\": 0, \"ticks\": \"\"}}, \"type\": \"scattermapbox\"}], \"scatterpolar\": [{\"marker\": {\"colorbar\": {\"outlinewidth\": 0, \"ticks\": \"\"}}, \"type\": \"scatterpolar\"}], \"scatterpolargl\": [{\"marker\": {\"colorbar\": {\"outlinewidth\": 0, \"ticks\": \"\"}}, \"type\": \"scatterpolargl\"}], \"scatterternary\": [{\"marker\": {\"colorbar\": {\"outlinewidth\": 0, \"ticks\": \"\"}}, \"type\": \"scatterternary\"}], \"surface\": [{\"colorbar\": {\"outlinewidth\": 0, \"ticks\": \"\"}, \"colorscale\": [[0.0, \"#0d0887\"], [0.1111111111111111, \"#46039f\"], [0.2222222222222222, \"#7201a8\"], [0.3333333333333333, \"#9c179e\"], [0.4444444444444444, \"#bd3786\"], [0.5555555555555556, \"#d8576b\"], [0.6666666666666666, \"#ed7953\"], [0.7777777777777778, \"#fb9f3a\"], [0.8888888888888888, \"#fdca26\"], [1.0, \"#f0f921\"]], \"type\": \"surface\"}], \"table\": [{\"cells\": {\"fill\": {\"color\": \"#EBF0F8\"}, \"line\": {\"color\": \"white\"}}, \"header\": {\"fill\": {\"color\": \"#C8D4E3\"}, \"line\": {\"color\": \"white\"}}, \"type\": \"table\"}]}, \"layout\": {\"annotationdefaults\": {\"arrowcolor\": \"#2a3f5f\", \"arrowhead\": 0, \"arrowwidth\": 1}, \"coloraxis\": {\"colorbar\": {\"outlinewidth\": 0, \"ticks\": \"\"}}, \"colorscale\": {\"diverging\": [[0, \"#8e0152\"], [0.1, \"#c51b7d\"], [0.2, \"#de77ae\"], [0.3, \"#f1b6da\"], [0.4, \"#fde0ef\"], [0.5, \"#f7f7f7\"], [0.6, \"#e6f5d0\"], [0.7, \"#b8e186\"], [0.8, \"#7fbc41\"], [0.9, \"#4d9221\"], [1, \"#276419\"]], \"sequential\": [[0.0, \"#0d0887\"], [0.1111111111111111, \"#46039f\"], [0.2222222222222222, \"#7201a8\"], [0.3333333333333333, \"#9c179e\"], [0.4444444444444444, \"#bd3786\"], [0.5555555555555556, \"#d8576b\"], [0.6666666666666666, \"#ed7953\"], [0.7777777777777778, \"#fb9f3a\"], [0.8888888888888888, \"#fdca26\"], [1.0, \"#f0f921\"]], \"sequentialminus\": [[0.0, \"#0d0887\"], [0.1111111111111111, \"#46039f\"], [0.2222222222222222, \"#7201a8\"], [0.3333333333333333, \"#9c179e\"], [0.4444444444444444, \"#bd3786\"], [0.5555555555555556, \"#d8576b\"], [0.6666666666666666, \"#ed7953\"], [0.7777777777777778, \"#fb9f3a\"], [0.8888888888888888, \"#fdca26\"], [1.0, \"#f0f921\"]]}, \"colorway\": [\"#636efa\", \"#EF553B\", \"#00cc96\", \"#ab63fa\", \"#FFA15A\", \"#19d3f3\", \"#FF6692\", \"#B6E880\", \"#FF97FF\", \"#FECB52\"], \"font\": {\"color\": \"#2a3f5f\"}, \"geo\": {\"bgcolor\": \"white\", \"lakecolor\": \"white\", \"landcolor\": \"#E5ECF6\", \"showlakes\": true, \"showland\": true, \"subunitcolor\": \"white\"}, \"hoverlabel\": {\"align\": \"left\"}, \"hovermode\": \"closest\", \"mapbox\": {\"style\": \"light\"}, \"paper_bgcolor\": \"white\", \"plot_bgcolor\": \"#E5ECF6\", \"polar\": {\"angularaxis\": {\"gridcolor\": \"white\", \"linecolor\": \"white\", \"ticks\": \"\"}, \"bgcolor\": \"#E5ECF6\", \"radialaxis\": {\"gridcolor\": \"white\", \"linecolor\": \"white\", \"ticks\": \"\"}}, \"scene\": {\"xaxis\": {\"backgroundcolor\": \"#E5ECF6\", \"gridcolor\": \"white\", \"gridwidth\": 2, \"linecolor\": \"white\", \"showbackground\": true, \"ticks\": \"\", \"zerolinecolor\": \"white\"}, \"yaxis\": {\"backgroundcolor\": \"#E5ECF6\", \"gridcolor\": \"white\", \"gridwidth\": 2, \"linecolor\": \"white\", \"showbackground\": true, \"ticks\": \"\", \"zerolinecolor\": \"white\"}, \"zaxis\": {\"backgroundcolor\": \"#E5ECF6\", \"gridcolor\": \"white\", \"gridwidth\": 2, \"linecolor\": \"white\", \"showbackground\": true, \"ticks\": \"\", \"zerolinecolor\": \"white\"}}, \"shapedefaults\": {\"line\": {\"color\": \"#2a3f5f\"}}, \"ternary\": {\"aaxis\": {\"gridcolor\": \"white\", \"linecolor\": \"white\", \"ticks\": \"\"}, \"baxis\": {\"gridcolor\": \"white\", \"linecolor\": \"white\", \"ticks\": \"\"}, \"bgcolor\": \"#E5ECF6\", \"caxis\": {\"gridcolor\": \"white\", \"linecolor\": \"white\", \"ticks\": \"\"}}, \"title\": {\"x\": 0.05}, \"xaxis\": {\"automargin\": true, \"gridcolor\": \"white\", \"linecolor\": \"white\", \"ticks\": \"\", \"title\": {\"standoff\": 15}, \"zerolinecolor\": \"white\", \"zerolinewidth\": 2}, \"yaxis\": {\"automargin\": true, \"gridcolor\": \"white\", \"linecolor\": \"white\", \"ticks\": \"\", \"title\": {\"standoff\": 15}, \"zerolinecolor\": \"white\", \"zerolinewidth\": 2}}}, \"title\": {\"text\": \"Time vs Displacement \"}, \"xaxis\": {\"anchor\": \"y\", \"domain\": [0.0, 1.0], \"rangeselector\": {\"buttons\": [{\"count\": 1, \"label\": \"1h\", \"step\": \"hour\", \"stepmode\": \"backward\"}, {\"count\": 2, \"label\": \"3h\", \"step\": \"hour\", \"stepmode\": \"backward\"}, {\"count\": 3, \"label\": \"5h\", \"step\": \"hour\", \"stepmode\": \"backward\"}, {\"step\": \"all\"}]}, \"rangeslider\": {\"visible\": true}, \"title\": {\"text\": \"Time\"}}, \"yaxis\": {\"anchor\": \"x\", \"domain\": [0.0, 1.0], \"title\": {\"text\": \"ZDisplacement\"}}},                        {\"responsive\": true}                    ).then(function(){\n",
              "                            \n",
              "var gd = document.getElementById('d753b7e9-1f1e-496a-a27f-9429cef40f3e');\n",
              "var x = new MutationObserver(function (mutations, observer) {{\n",
              "        var display = window.getComputedStyle(gd).display;\n",
              "        if (!display || display === 'none') {{\n",
              "            console.log([gd, 'removed!']);\n",
              "            Plotly.purge(gd);\n",
              "            observer.disconnect();\n",
              "        }}\n",
              "}});\n",
              "\n",
              "// Listen for the removal of the full notebook cells\n",
              "var notebookContainer = gd.closest('#notebook-container');\n",
              "if (notebookContainer) {{\n",
              "    x.observe(notebookContainer, {childList: true});\n",
              "}}\n",
              "\n",
              "// Listen for the clearing of the current output cell\n",
              "var outputEl = gd.closest('.output');\n",
              "if (outputEl) {{\n",
              "    x.observe(outputEl, {childList: true});\n",
              "}}\n",
              "\n",
              "                        })                };                });            </script>        </div>"
            ]
          },
          "metadata": {
            "tags": []
          }
        }
      ]
    },
    {
      "cell_type": "code",
      "metadata": {
        "colab_type": "code",
        "id": "wKeXfvf6DVrU",
        "colab": {}
      },
      "source": [
        "df=df.set_index('TimeStamp')"
      ],
      "execution_count": null,
      "outputs": []
    },
    {
      "cell_type": "code",
      "metadata": {
        "colab_type": "code",
        "id": "aJPEhINtDx9f",
        "colab": {
          "base_uri": "https://localhost:8080/",
          "height": 455
        },
        "outputId": "6213f2e0-04aa-48f8-ea88-db8fcbf93eb6"
      },
      "source": [
        "df.drop(['Time'], axis=1)"
      ],
      "execution_count": null,
      "outputs": [
        {
          "output_type": "execute_result",
          "data": {
            "text/html": [
              "<div>\n",
              "<style scoped>\n",
              "    .dataframe tbody tr th:only-of-type {\n",
              "        vertical-align: middle;\n",
              "    }\n",
              "\n",
              "    .dataframe tbody tr th {\n",
              "        vertical-align: top;\n",
              "    }\n",
              "\n",
              "    .dataframe thead th {\n",
              "        text-align: right;\n",
              "    }\n",
              "</style>\n",
              "<table border=\"1\" class=\"dataframe\">\n",
              "  <thead>\n",
              "    <tr style=\"text-align: right;\">\n",
              "      <th></th>\n",
              "      <th>ZDisplacement</th>\n",
              "    </tr>\n",
              "    <tr>\n",
              "      <th>TimeStamp</th>\n",
              "      <th></th>\n",
              "    </tr>\n",
              "  </thead>\n",
              "  <tbody>\n",
              "    <tr>\n",
              "      <th>2018-07-25 17:57:46.699997000</th>\n",
              "      <td>0.59</td>\n",
              "    </tr>\n",
              "    <tr>\n",
              "      <th>2018-07-25 17:57:47.481247018</th>\n",
              "      <td>0.57</td>\n",
              "    </tr>\n",
              "    <tr>\n",
              "      <th>2018-07-25 17:57:48.262497037</th>\n",
              "      <td>0.47</td>\n",
              "    </tr>\n",
              "    <tr>\n",
              "      <th>2018-07-25 17:57:49.043747055</th>\n",
              "      <td>0.46</td>\n",
              "    </tr>\n",
              "    <tr>\n",
              "      <th>2018-07-25 17:57:49.824997073</th>\n",
              "      <td>0.34</td>\n",
              "    </tr>\n",
              "    <tr>\n",
              "      <th>...</th>\n",
              "      <td>...</td>\n",
              "    </tr>\n",
              "    <tr>\n",
              "      <th>2018-07-26 15:39:48.576827981</th>\n",
              "      <td>-0.05</td>\n",
              "    </tr>\n",
              "    <tr>\n",
              "      <th>2018-07-26 15:39:49.358078000</th>\n",
              "      <td>0.20</td>\n",
              "    </tr>\n",
              "    <tr>\n",
              "      <th>2018-07-26 15:39:50.139328018</th>\n",
              "      <td>0.37</td>\n",
              "    </tr>\n",
              "    <tr>\n",
              "      <th>2018-07-26 15:39:50.920578036</th>\n",
              "      <td>0.34</td>\n",
              "    </tr>\n",
              "    <tr>\n",
              "      <th>2018-07-26 15:39:51.701828055</th>\n",
              "      <td>0.16</td>\n",
              "    </tr>\n",
              "  </tbody>\n",
              "</table>\n",
              "<p>100001 rows × 1 columns</p>\n",
              "</div>"
            ],
            "text/plain": [
              "                               ZDisplacement\n",
              "TimeStamp                                   \n",
              "2018-07-25 17:57:46.699997000           0.59\n",
              "2018-07-25 17:57:47.481247018           0.57\n",
              "2018-07-25 17:57:48.262497037           0.47\n",
              "2018-07-25 17:57:49.043747055           0.46\n",
              "2018-07-25 17:57:49.824997073           0.34\n",
              "...                                      ...\n",
              "2018-07-26 15:39:48.576827981          -0.05\n",
              "2018-07-26 15:39:49.358078000           0.20\n",
              "2018-07-26 15:39:50.139328018           0.37\n",
              "2018-07-26 15:39:50.920578036           0.34\n",
              "2018-07-26 15:39:51.701828055           0.16\n",
              "\n",
              "[100001 rows x 1 columns]"
            ]
          },
          "metadata": {
            "tags": []
          },
          "execution_count": 158
        }
      ]
    },
    {
      "cell_type": "code",
      "metadata": {
        "colab_type": "code",
        "id": "BpFzrlElDzOX",
        "colab": {
          "base_uri": "https://localhost:8080/",
          "height": 542
        },
        "outputId": "d9326c8c-644e-4f3f-987d-f82f9ae7c0a1"
      },
      "source": [
        "fig = px.line(df[:100], x='Time', y='ZDisplacement', title='Time vs Z Displacement (only 2000 observations) ')\n",
        "\n",
        "fig.update_xaxes(\n",
        "    rangeslider_visible=True,\n",
        "    # rangeselector=dict(\n",
        "    #     buttons=list([\n",
        "    #         dict(count=1, label=\"1h\", step=\"hour\", stepmode=\"backward\"),\n",
        "    #         dict(count=2, label=\"3h\", step=\"hour\", stepmode=\"backward\"),\n",
        "    #         dict(count=3, label=\"5h\", step=\"hour\", stepmode=\"backward\"),\n",
        "    #         dict(step=\"all\")\n",
        "    #     ])\n",
        "    # )\n",
        ")\n",
        "fig.show()"
      ],
      "execution_count": null,
      "outputs": [
        {
          "output_type": "display_data",
          "data": {
            "application/vnd.plotly.v1+json": {
              "config": {
                "plotlyServerURL": "https://plot.ly"
              },
              "data": [
                {
                  "hovertemplate": "Time=%{x}<br>ZDisplacement=%{y}<extra></extra>",
                  "legendgroup": "",
                  "line": {
                    "color": "#636efa",
                    "dash": "solid"
                  },
                  "mode": "lines",
                  "name": "",
                  "orientation": "v",
                  "showlegend": false,
                  "type": "scatter",
                  "x": [
                    0,
                    1,
                    2,
                    3,
                    4,
                    5,
                    6,
                    7,
                    8,
                    9,
                    10,
                    11,
                    12,
                    13,
                    14,
                    15,
                    16,
                    17,
                    18,
                    19,
                    20,
                    21,
                    22,
                    23,
                    24,
                    25,
                    26,
                    27,
                    28,
                    29,
                    30,
                    31,
                    32,
                    33,
                    34,
                    35,
                    36,
                    37,
                    38,
                    39,
                    40,
                    41,
                    42,
                    43,
                    44,
                    45,
                    46,
                    47,
                    48,
                    49,
                    50,
                    51,
                    52,
                    53,
                    54,
                    55,
                    56,
                    57,
                    58,
                    59,
                    60,
                    61,
                    62,
                    63,
                    64,
                    65,
                    66,
                    67,
                    68,
                    69,
                    70,
                    71,
                    72,
                    73,
                    74,
                    75,
                    76,
                    77,
                    78,
                    79,
                    80,
                    81,
                    82,
                    83,
                    84,
                    85,
                    86,
                    87,
                    88,
                    89,
                    90,
                    91,
                    92,
                    93,
                    94,
                    95,
                    96,
                    97,
                    98,
                    99
                  ],
                  "xaxis": "x",
                  "y": [
                    0.59,
                    0.57,
                    0.47,
                    0.46,
                    0.34,
                    0.14,
                    -0.04,
                    -0.15,
                    -0.37,
                    -0.5,
                    -0.44,
                    -0.47,
                    -0.37,
                    -0.41,
                    -0.23,
                    -0.19,
                    0.01,
                    0.38,
                    0.21,
                    0.33,
                    0.75,
                    0.78,
                    0.51,
                    0.05,
                    -0.35,
                    -0.29,
                    -0.04,
                    0.17,
                    0.14,
                    -0.04,
                    -0.51,
                    -0.69,
                    -0.58,
                    -0.26,
                    0.09,
                    -0.12,
                    -0.16,
                    -0.14,
                    -0.06,
                    0.13,
                    0.15,
                    0.46,
                    0.66,
                    0.64,
                    0.62,
                    0.3,
                    0.1,
                    0.08,
                    0.02,
                    -0.36,
                    -0.43,
                    -0.42,
                    -0.67,
                    -0.72,
                    -0.48,
                    -0.11,
                    -0.02,
                    -0.05,
                    0.05,
                    0.34,
                    0.44,
                    0.24,
                    0.29,
                    0.36,
                    0.14,
                    0.25,
                    0.38,
                    0.31,
                    0.19,
                    -0.01,
                    -0.37,
                    -0.35,
                    -0.22,
                    -0.52,
                    -0.64,
                    -0.5,
                    -0.22,
                    -0.06,
                    -0.04,
                    0.11,
                    0.44,
                    0.36,
                    0.25,
                    0.34,
                    0.46,
                    0.48,
                    0.36,
                    0.24,
                    -0.19,
                    -0.4,
                    -0.38,
                    -0.38,
                    -0.29,
                    -0.27,
                    -0.23,
                    -0.28,
                    -0.24,
                    -0.07,
                    0.18,
                    0.14
                  ],
                  "yaxis": "y"
                }
              ],
              "layout": {
                "legend": {
                  "tracegroupgap": 0
                },
                "template": {
                  "data": {
                    "bar": [
                      {
                        "error_x": {
                          "color": "#2a3f5f"
                        },
                        "error_y": {
                          "color": "#2a3f5f"
                        },
                        "marker": {
                          "line": {
                            "color": "#E5ECF6",
                            "width": 0.5
                          }
                        },
                        "type": "bar"
                      }
                    ],
                    "barpolar": [
                      {
                        "marker": {
                          "line": {
                            "color": "#E5ECF6",
                            "width": 0.5
                          }
                        },
                        "type": "barpolar"
                      }
                    ],
                    "carpet": [
                      {
                        "aaxis": {
                          "endlinecolor": "#2a3f5f",
                          "gridcolor": "white",
                          "linecolor": "white",
                          "minorgridcolor": "white",
                          "startlinecolor": "#2a3f5f"
                        },
                        "baxis": {
                          "endlinecolor": "#2a3f5f",
                          "gridcolor": "white",
                          "linecolor": "white",
                          "minorgridcolor": "white",
                          "startlinecolor": "#2a3f5f"
                        },
                        "type": "carpet"
                      }
                    ],
                    "choropleth": [
                      {
                        "colorbar": {
                          "outlinewidth": 0,
                          "ticks": ""
                        },
                        "type": "choropleth"
                      }
                    ],
                    "contour": [
                      {
                        "colorbar": {
                          "outlinewidth": 0,
                          "ticks": ""
                        },
                        "colorscale": [
                          [
                            0,
                            "#0d0887"
                          ],
                          [
                            0.1111111111111111,
                            "#46039f"
                          ],
                          [
                            0.2222222222222222,
                            "#7201a8"
                          ],
                          [
                            0.3333333333333333,
                            "#9c179e"
                          ],
                          [
                            0.4444444444444444,
                            "#bd3786"
                          ],
                          [
                            0.5555555555555556,
                            "#d8576b"
                          ],
                          [
                            0.6666666666666666,
                            "#ed7953"
                          ],
                          [
                            0.7777777777777778,
                            "#fb9f3a"
                          ],
                          [
                            0.8888888888888888,
                            "#fdca26"
                          ],
                          [
                            1,
                            "#f0f921"
                          ]
                        ],
                        "type": "contour"
                      }
                    ],
                    "contourcarpet": [
                      {
                        "colorbar": {
                          "outlinewidth": 0,
                          "ticks": ""
                        },
                        "type": "contourcarpet"
                      }
                    ],
                    "heatmap": [
                      {
                        "colorbar": {
                          "outlinewidth": 0,
                          "ticks": ""
                        },
                        "colorscale": [
                          [
                            0,
                            "#0d0887"
                          ],
                          [
                            0.1111111111111111,
                            "#46039f"
                          ],
                          [
                            0.2222222222222222,
                            "#7201a8"
                          ],
                          [
                            0.3333333333333333,
                            "#9c179e"
                          ],
                          [
                            0.4444444444444444,
                            "#bd3786"
                          ],
                          [
                            0.5555555555555556,
                            "#d8576b"
                          ],
                          [
                            0.6666666666666666,
                            "#ed7953"
                          ],
                          [
                            0.7777777777777778,
                            "#fb9f3a"
                          ],
                          [
                            0.8888888888888888,
                            "#fdca26"
                          ],
                          [
                            1,
                            "#f0f921"
                          ]
                        ],
                        "type": "heatmap"
                      }
                    ],
                    "heatmapgl": [
                      {
                        "colorbar": {
                          "outlinewidth": 0,
                          "ticks": ""
                        },
                        "colorscale": [
                          [
                            0,
                            "#0d0887"
                          ],
                          [
                            0.1111111111111111,
                            "#46039f"
                          ],
                          [
                            0.2222222222222222,
                            "#7201a8"
                          ],
                          [
                            0.3333333333333333,
                            "#9c179e"
                          ],
                          [
                            0.4444444444444444,
                            "#bd3786"
                          ],
                          [
                            0.5555555555555556,
                            "#d8576b"
                          ],
                          [
                            0.6666666666666666,
                            "#ed7953"
                          ],
                          [
                            0.7777777777777778,
                            "#fb9f3a"
                          ],
                          [
                            0.8888888888888888,
                            "#fdca26"
                          ],
                          [
                            1,
                            "#f0f921"
                          ]
                        ],
                        "type": "heatmapgl"
                      }
                    ],
                    "histogram": [
                      {
                        "marker": {
                          "colorbar": {
                            "outlinewidth": 0,
                            "ticks": ""
                          }
                        },
                        "type": "histogram"
                      }
                    ],
                    "histogram2d": [
                      {
                        "colorbar": {
                          "outlinewidth": 0,
                          "ticks": ""
                        },
                        "colorscale": [
                          [
                            0,
                            "#0d0887"
                          ],
                          [
                            0.1111111111111111,
                            "#46039f"
                          ],
                          [
                            0.2222222222222222,
                            "#7201a8"
                          ],
                          [
                            0.3333333333333333,
                            "#9c179e"
                          ],
                          [
                            0.4444444444444444,
                            "#bd3786"
                          ],
                          [
                            0.5555555555555556,
                            "#d8576b"
                          ],
                          [
                            0.6666666666666666,
                            "#ed7953"
                          ],
                          [
                            0.7777777777777778,
                            "#fb9f3a"
                          ],
                          [
                            0.8888888888888888,
                            "#fdca26"
                          ],
                          [
                            1,
                            "#f0f921"
                          ]
                        ],
                        "type": "histogram2d"
                      }
                    ],
                    "histogram2dcontour": [
                      {
                        "colorbar": {
                          "outlinewidth": 0,
                          "ticks": ""
                        },
                        "colorscale": [
                          [
                            0,
                            "#0d0887"
                          ],
                          [
                            0.1111111111111111,
                            "#46039f"
                          ],
                          [
                            0.2222222222222222,
                            "#7201a8"
                          ],
                          [
                            0.3333333333333333,
                            "#9c179e"
                          ],
                          [
                            0.4444444444444444,
                            "#bd3786"
                          ],
                          [
                            0.5555555555555556,
                            "#d8576b"
                          ],
                          [
                            0.6666666666666666,
                            "#ed7953"
                          ],
                          [
                            0.7777777777777778,
                            "#fb9f3a"
                          ],
                          [
                            0.8888888888888888,
                            "#fdca26"
                          ],
                          [
                            1,
                            "#f0f921"
                          ]
                        ],
                        "type": "histogram2dcontour"
                      }
                    ],
                    "mesh3d": [
                      {
                        "colorbar": {
                          "outlinewidth": 0,
                          "ticks": ""
                        },
                        "type": "mesh3d"
                      }
                    ],
                    "parcoords": [
                      {
                        "line": {
                          "colorbar": {
                            "outlinewidth": 0,
                            "ticks": ""
                          }
                        },
                        "type": "parcoords"
                      }
                    ],
                    "pie": [
                      {
                        "automargin": true,
                        "type": "pie"
                      }
                    ],
                    "scatter": [
                      {
                        "marker": {
                          "colorbar": {
                            "outlinewidth": 0,
                            "ticks": ""
                          }
                        },
                        "type": "scatter"
                      }
                    ],
                    "scatter3d": [
                      {
                        "line": {
                          "colorbar": {
                            "outlinewidth": 0,
                            "ticks": ""
                          }
                        },
                        "marker": {
                          "colorbar": {
                            "outlinewidth": 0,
                            "ticks": ""
                          }
                        },
                        "type": "scatter3d"
                      }
                    ],
                    "scattercarpet": [
                      {
                        "marker": {
                          "colorbar": {
                            "outlinewidth": 0,
                            "ticks": ""
                          }
                        },
                        "type": "scattercarpet"
                      }
                    ],
                    "scattergeo": [
                      {
                        "marker": {
                          "colorbar": {
                            "outlinewidth": 0,
                            "ticks": ""
                          }
                        },
                        "type": "scattergeo"
                      }
                    ],
                    "scattergl": [
                      {
                        "marker": {
                          "colorbar": {
                            "outlinewidth": 0,
                            "ticks": ""
                          }
                        },
                        "type": "scattergl"
                      }
                    ],
                    "scattermapbox": [
                      {
                        "marker": {
                          "colorbar": {
                            "outlinewidth": 0,
                            "ticks": ""
                          }
                        },
                        "type": "scattermapbox"
                      }
                    ],
                    "scatterpolar": [
                      {
                        "marker": {
                          "colorbar": {
                            "outlinewidth": 0,
                            "ticks": ""
                          }
                        },
                        "type": "scatterpolar"
                      }
                    ],
                    "scatterpolargl": [
                      {
                        "marker": {
                          "colorbar": {
                            "outlinewidth": 0,
                            "ticks": ""
                          }
                        },
                        "type": "scatterpolargl"
                      }
                    ],
                    "scatterternary": [
                      {
                        "marker": {
                          "colorbar": {
                            "outlinewidth": 0,
                            "ticks": ""
                          }
                        },
                        "type": "scatterternary"
                      }
                    ],
                    "surface": [
                      {
                        "colorbar": {
                          "outlinewidth": 0,
                          "ticks": ""
                        },
                        "colorscale": [
                          [
                            0,
                            "#0d0887"
                          ],
                          [
                            0.1111111111111111,
                            "#46039f"
                          ],
                          [
                            0.2222222222222222,
                            "#7201a8"
                          ],
                          [
                            0.3333333333333333,
                            "#9c179e"
                          ],
                          [
                            0.4444444444444444,
                            "#bd3786"
                          ],
                          [
                            0.5555555555555556,
                            "#d8576b"
                          ],
                          [
                            0.6666666666666666,
                            "#ed7953"
                          ],
                          [
                            0.7777777777777778,
                            "#fb9f3a"
                          ],
                          [
                            0.8888888888888888,
                            "#fdca26"
                          ],
                          [
                            1,
                            "#f0f921"
                          ]
                        ],
                        "type": "surface"
                      }
                    ],
                    "table": [
                      {
                        "cells": {
                          "fill": {
                            "color": "#EBF0F8"
                          },
                          "line": {
                            "color": "white"
                          }
                        },
                        "header": {
                          "fill": {
                            "color": "#C8D4E3"
                          },
                          "line": {
                            "color": "white"
                          }
                        },
                        "type": "table"
                      }
                    ]
                  },
                  "layout": {
                    "annotationdefaults": {
                      "arrowcolor": "#2a3f5f",
                      "arrowhead": 0,
                      "arrowwidth": 1
                    },
                    "coloraxis": {
                      "colorbar": {
                        "outlinewidth": 0,
                        "ticks": ""
                      }
                    },
                    "colorscale": {
                      "diverging": [
                        [
                          0,
                          "#8e0152"
                        ],
                        [
                          0.1,
                          "#c51b7d"
                        ],
                        [
                          0.2,
                          "#de77ae"
                        ],
                        [
                          0.3,
                          "#f1b6da"
                        ],
                        [
                          0.4,
                          "#fde0ef"
                        ],
                        [
                          0.5,
                          "#f7f7f7"
                        ],
                        [
                          0.6,
                          "#e6f5d0"
                        ],
                        [
                          0.7,
                          "#b8e186"
                        ],
                        [
                          0.8,
                          "#7fbc41"
                        ],
                        [
                          0.9,
                          "#4d9221"
                        ],
                        [
                          1,
                          "#276419"
                        ]
                      ],
                      "sequential": [
                        [
                          0,
                          "#0d0887"
                        ],
                        [
                          0.1111111111111111,
                          "#46039f"
                        ],
                        [
                          0.2222222222222222,
                          "#7201a8"
                        ],
                        [
                          0.3333333333333333,
                          "#9c179e"
                        ],
                        [
                          0.4444444444444444,
                          "#bd3786"
                        ],
                        [
                          0.5555555555555556,
                          "#d8576b"
                        ],
                        [
                          0.6666666666666666,
                          "#ed7953"
                        ],
                        [
                          0.7777777777777778,
                          "#fb9f3a"
                        ],
                        [
                          0.8888888888888888,
                          "#fdca26"
                        ],
                        [
                          1,
                          "#f0f921"
                        ]
                      ],
                      "sequentialminus": [
                        [
                          0,
                          "#0d0887"
                        ],
                        [
                          0.1111111111111111,
                          "#46039f"
                        ],
                        [
                          0.2222222222222222,
                          "#7201a8"
                        ],
                        [
                          0.3333333333333333,
                          "#9c179e"
                        ],
                        [
                          0.4444444444444444,
                          "#bd3786"
                        ],
                        [
                          0.5555555555555556,
                          "#d8576b"
                        ],
                        [
                          0.6666666666666666,
                          "#ed7953"
                        ],
                        [
                          0.7777777777777778,
                          "#fb9f3a"
                        ],
                        [
                          0.8888888888888888,
                          "#fdca26"
                        ],
                        [
                          1,
                          "#f0f921"
                        ]
                      ]
                    },
                    "colorway": [
                      "#636efa",
                      "#EF553B",
                      "#00cc96",
                      "#ab63fa",
                      "#FFA15A",
                      "#19d3f3",
                      "#FF6692",
                      "#B6E880",
                      "#FF97FF",
                      "#FECB52"
                    ],
                    "font": {
                      "color": "#2a3f5f"
                    },
                    "geo": {
                      "bgcolor": "white",
                      "lakecolor": "white",
                      "landcolor": "#E5ECF6",
                      "showlakes": true,
                      "showland": true,
                      "subunitcolor": "white"
                    },
                    "hoverlabel": {
                      "align": "left"
                    },
                    "hovermode": "closest",
                    "mapbox": {
                      "style": "light"
                    },
                    "paper_bgcolor": "white",
                    "plot_bgcolor": "#E5ECF6",
                    "polar": {
                      "angularaxis": {
                        "gridcolor": "white",
                        "linecolor": "white",
                        "ticks": ""
                      },
                      "bgcolor": "#E5ECF6",
                      "radialaxis": {
                        "gridcolor": "white",
                        "linecolor": "white",
                        "ticks": ""
                      }
                    },
                    "scene": {
                      "xaxis": {
                        "backgroundcolor": "#E5ECF6",
                        "gridcolor": "white",
                        "gridwidth": 2,
                        "linecolor": "white",
                        "showbackground": true,
                        "ticks": "",
                        "zerolinecolor": "white"
                      },
                      "yaxis": {
                        "backgroundcolor": "#E5ECF6",
                        "gridcolor": "white",
                        "gridwidth": 2,
                        "linecolor": "white",
                        "showbackground": true,
                        "ticks": "",
                        "zerolinecolor": "white"
                      },
                      "zaxis": {
                        "backgroundcolor": "#E5ECF6",
                        "gridcolor": "white",
                        "gridwidth": 2,
                        "linecolor": "white",
                        "showbackground": true,
                        "ticks": "",
                        "zerolinecolor": "white"
                      }
                    },
                    "shapedefaults": {
                      "line": {
                        "color": "#2a3f5f"
                      }
                    },
                    "ternary": {
                      "aaxis": {
                        "gridcolor": "white",
                        "linecolor": "white",
                        "ticks": ""
                      },
                      "baxis": {
                        "gridcolor": "white",
                        "linecolor": "white",
                        "ticks": ""
                      },
                      "bgcolor": "#E5ECF6",
                      "caxis": {
                        "gridcolor": "white",
                        "linecolor": "white",
                        "ticks": ""
                      }
                    },
                    "title": {
                      "x": 0.05
                    },
                    "xaxis": {
                      "automargin": true,
                      "gridcolor": "white",
                      "linecolor": "white",
                      "ticks": "",
                      "title": {
                        "standoff": 15
                      },
                      "zerolinecolor": "white",
                      "zerolinewidth": 2
                    },
                    "yaxis": {
                      "automargin": true,
                      "gridcolor": "white",
                      "linecolor": "white",
                      "ticks": "",
                      "title": {
                        "standoff": 15
                      },
                      "zerolinecolor": "white",
                      "zerolinewidth": 2
                    }
                  }
                },
                "title": {
                  "text": "Time vs Z Displacement (only 2000 observations) "
                },
                "xaxis": {
                  "anchor": "y",
                  "domain": [
                    0,
                    1
                  ],
                  "rangeslider": {
                    "visible": true
                  },
                  "title": {
                    "text": "Time"
                  }
                },
                "yaxis": {
                  "anchor": "x",
                  "domain": [
                    0,
                    1
                  ],
                  "title": {
                    "text": "ZDisplacement"
                  }
                }
              }
            },
            "text/html": [
              "<div>                            <div id=\"11805d56-e4d7-4508-8a7f-941032a4b2b0\" class=\"plotly-graph-div\" style=\"height:525px; width:100%;\"></div>            <script type=\"text/javascript\">                require([\"plotly\"], function(Plotly) {                    window.PLOTLYENV=window.PLOTLYENV || {};                                    if (document.getElementById(\"11805d56-e4d7-4508-8a7f-941032a4b2b0\")) {                    Plotly.newPlot(                        \"11805d56-e4d7-4508-8a7f-941032a4b2b0\",                        [{\"hovertemplate\": \"Time=%{x}<br>ZDisplacement=%{y}<extra></extra>\", \"legendgroup\": \"\", \"line\": {\"color\": \"#636efa\", \"dash\": \"solid\"}, \"mode\": \"lines\", \"name\": \"\", \"orientation\": \"v\", \"showlegend\": false, \"type\": \"scatter\", \"x\": [0, 1, 2, 3, 4, 5, 6, 7, 8, 9, 10, 11, 12, 13, 14, 15, 16, 17, 18, 19, 20, 21, 22, 23, 24, 25, 26, 27, 28, 29, 30, 31, 32, 33, 34, 35, 36, 37, 38, 39, 40, 41, 42, 43, 44, 45, 46, 47, 48, 49, 50, 51, 52, 53, 54, 55, 56, 57, 58, 59, 60, 61, 62, 63, 64, 65, 66, 67, 68, 69, 70, 71, 72, 73, 74, 75, 76, 77, 78, 79, 80, 81, 82, 83, 84, 85, 86, 87, 88, 89, 90, 91, 92, 93, 94, 95, 96, 97, 98, 99], \"xaxis\": \"x\", \"y\": [0.59, 0.57, 0.47, 0.46, 0.34, 0.14, -0.04, -0.15, -0.37, -0.5, -0.44, -0.47, -0.37, -0.41, -0.23, -0.19, 0.01, 0.38, 0.21, 0.33, 0.75, 0.78, 0.51, 0.05, -0.35, -0.29, -0.04, 0.17, 0.14, -0.04, -0.51, -0.69, -0.58, -0.26, 0.09, -0.12, -0.16, -0.14, -0.06, 0.13, 0.15, 0.46, 0.66, 0.64, 0.62, 0.3, 0.1, 0.08, 0.02, -0.36, -0.43, -0.42, -0.67, -0.72, -0.48, -0.11, -0.02, -0.05, 0.05, 0.34, 0.44, 0.24, 0.29, 0.36, 0.14, 0.25, 0.38, 0.31, 0.19, -0.01, -0.37, -0.35, -0.22, -0.52, -0.64, -0.5, -0.22, -0.06, -0.04, 0.11, 0.44, 0.36, 0.25, 0.34, 0.46, 0.48, 0.36, 0.24, -0.19, -0.4, -0.38, -0.38, -0.29, -0.27, -0.23, -0.28, -0.24, -0.07, 0.18, 0.14], \"yaxis\": \"y\"}],                        {\"legend\": {\"tracegroupgap\": 0}, \"template\": {\"data\": {\"bar\": [{\"error_x\": {\"color\": \"#2a3f5f\"}, \"error_y\": {\"color\": \"#2a3f5f\"}, \"marker\": {\"line\": {\"color\": \"#E5ECF6\", \"width\": 0.5}}, \"type\": \"bar\"}], \"barpolar\": [{\"marker\": {\"line\": {\"color\": \"#E5ECF6\", \"width\": 0.5}}, \"type\": \"barpolar\"}], \"carpet\": [{\"aaxis\": {\"endlinecolor\": \"#2a3f5f\", \"gridcolor\": \"white\", \"linecolor\": \"white\", \"minorgridcolor\": \"white\", \"startlinecolor\": \"#2a3f5f\"}, \"baxis\": {\"endlinecolor\": \"#2a3f5f\", \"gridcolor\": \"white\", \"linecolor\": \"white\", \"minorgridcolor\": \"white\", \"startlinecolor\": \"#2a3f5f\"}, \"type\": \"carpet\"}], \"choropleth\": [{\"colorbar\": {\"outlinewidth\": 0, \"ticks\": \"\"}, \"type\": \"choropleth\"}], \"contour\": [{\"colorbar\": {\"outlinewidth\": 0, \"ticks\": \"\"}, \"colorscale\": [[0.0, \"#0d0887\"], [0.1111111111111111, \"#46039f\"], [0.2222222222222222, \"#7201a8\"], [0.3333333333333333, \"#9c179e\"], [0.4444444444444444, \"#bd3786\"], [0.5555555555555556, \"#d8576b\"], [0.6666666666666666, \"#ed7953\"], [0.7777777777777778, \"#fb9f3a\"], [0.8888888888888888, \"#fdca26\"], [1.0, \"#f0f921\"]], \"type\": \"contour\"}], \"contourcarpet\": [{\"colorbar\": {\"outlinewidth\": 0, \"ticks\": \"\"}, \"type\": \"contourcarpet\"}], \"heatmap\": [{\"colorbar\": {\"outlinewidth\": 0, \"ticks\": \"\"}, \"colorscale\": [[0.0, \"#0d0887\"], [0.1111111111111111, \"#46039f\"], [0.2222222222222222, \"#7201a8\"], [0.3333333333333333, \"#9c179e\"], [0.4444444444444444, \"#bd3786\"], [0.5555555555555556, \"#d8576b\"], [0.6666666666666666, \"#ed7953\"], [0.7777777777777778, \"#fb9f3a\"], [0.8888888888888888, \"#fdca26\"], [1.0, \"#f0f921\"]], \"type\": \"heatmap\"}], \"heatmapgl\": [{\"colorbar\": {\"outlinewidth\": 0, \"ticks\": \"\"}, \"colorscale\": [[0.0, \"#0d0887\"], [0.1111111111111111, \"#46039f\"], [0.2222222222222222, \"#7201a8\"], [0.3333333333333333, \"#9c179e\"], [0.4444444444444444, \"#bd3786\"], [0.5555555555555556, \"#d8576b\"], [0.6666666666666666, \"#ed7953\"], [0.7777777777777778, \"#fb9f3a\"], [0.8888888888888888, \"#fdca26\"], [1.0, \"#f0f921\"]], \"type\": \"heatmapgl\"}], \"histogram\": [{\"marker\": {\"colorbar\": {\"outlinewidth\": 0, \"ticks\": \"\"}}, \"type\": \"histogram\"}], \"histogram2d\": [{\"colorbar\": {\"outlinewidth\": 0, \"ticks\": \"\"}, \"colorscale\": [[0.0, \"#0d0887\"], [0.1111111111111111, \"#46039f\"], [0.2222222222222222, \"#7201a8\"], [0.3333333333333333, \"#9c179e\"], [0.4444444444444444, \"#bd3786\"], [0.5555555555555556, \"#d8576b\"], [0.6666666666666666, \"#ed7953\"], [0.7777777777777778, \"#fb9f3a\"], [0.8888888888888888, \"#fdca26\"], [1.0, \"#f0f921\"]], \"type\": \"histogram2d\"}], \"histogram2dcontour\": [{\"colorbar\": {\"outlinewidth\": 0, \"ticks\": \"\"}, \"colorscale\": [[0.0, \"#0d0887\"], [0.1111111111111111, \"#46039f\"], [0.2222222222222222, \"#7201a8\"], [0.3333333333333333, \"#9c179e\"], [0.4444444444444444, \"#bd3786\"], [0.5555555555555556, \"#d8576b\"], [0.6666666666666666, \"#ed7953\"], [0.7777777777777778, \"#fb9f3a\"], [0.8888888888888888, \"#fdca26\"], [1.0, \"#f0f921\"]], \"type\": \"histogram2dcontour\"}], \"mesh3d\": [{\"colorbar\": {\"outlinewidth\": 0, \"ticks\": \"\"}, \"type\": \"mesh3d\"}], \"parcoords\": [{\"line\": {\"colorbar\": {\"outlinewidth\": 0, \"ticks\": \"\"}}, \"type\": \"parcoords\"}], \"pie\": [{\"automargin\": true, \"type\": \"pie\"}], \"scatter\": [{\"marker\": {\"colorbar\": {\"outlinewidth\": 0, \"ticks\": \"\"}}, \"type\": \"scatter\"}], \"scatter3d\": [{\"line\": {\"colorbar\": {\"outlinewidth\": 0, \"ticks\": \"\"}}, \"marker\": {\"colorbar\": {\"outlinewidth\": 0, \"ticks\": \"\"}}, \"type\": \"scatter3d\"}], \"scattercarpet\": [{\"marker\": {\"colorbar\": {\"outlinewidth\": 0, \"ticks\": \"\"}}, \"type\": \"scattercarpet\"}], \"scattergeo\": [{\"marker\": {\"colorbar\": {\"outlinewidth\": 0, \"ticks\": \"\"}}, \"type\": \"scattergeo\"}], \"scattergl\": [{\"marker\": {\"colorbar\": {\"outlinewidth\": 0, \"ticks\": \"\"}}, \"type\": \"scattergl\"}], \"scattermapbox\": [{\"marker\": {\"colorbar\": {\"outlinewidth\": 0, \"ticks\": \"\"}}, \"type\": \"scattermapbox\"}], \"scatterpolar\": [{\"marker\": {\"colorbar\": {\"outlinewidth\": 0, \"ticks\": \"\"}}, \"type\": \"scatterpolar\"}], \"scatterpolargl\": [{\"marker\": {\"colorbar\": {\"outlinewidth\": 0, \"ticks\": \"\"}}, \"type\": \"scatterpolargl\"}], \"scatterternary\": [{\"marker\": {\"colorbar\": {\"outlinewidth\": 0, \"ticks\": \"\"}}, \"type\": \"scatterternary\"}], \"surface\": [{\"colorbar\": {\"outlinewidth\": 0, \"ticks\": \"\"}, \"colorscale\": [[0.0, \"#0d0887\"], [0.1111111111111111, \"#46039f\"], [0.2222222222222222, \"#7201a8\"], [0.3333333333333333, \"#9c179e\"], [0.4444444444444444, \"#bd3786\"], [0.5555555555555556, \"#d8576b\"], [0.6666666666666666, \"#ed7953\"], [0.7777777777777778, \"#fb9f3a\"], [0.8888888888888888, \"#fdca26\"], [1.0, \"#f0f921\"]], \"type\": \"surface\"}], \"table\": [{\"cells\": {\"fill\": {\"color\": \"#EBF0F8\"}, \"line\": {\"color\": \"white\"}}, \"header\": {\"fill\": {\"color\": \"#C8D4E3\"}, \"line\": {\"color\": \"white\"}}, \"type\": \"table\"}]}, \"layout\": {\"annotationdefaults\": {\"arrowcolor\": \"#2a3f5f\", \"arrowhead\": 0, \"arrowwidth\": 1}, \"coloraxis\": {\"colorbar\": {\"outlinewidth\": 0, \"ticks\": \"\"}}, \"colorscale\": {\"diverging\": [[0, \"#8e0152\"], [0.1, \"#c51b7d\"], [0.2, \"#de77ae\"], [0.3, \"#f1b6da\"], [0.4, \"#fde0ef\"], [0.5, \"#f7f7f7\"], [0.6, \"#e6f5d0\"], [0.7, \"#b8e186\"], [0.8, \"#7fbc41\"], [0.9, \"#4d9221\"], [1, \"#276419\"]], \"sequential\": [[0.0, \"#0d0887\"], [0.1111111111111111, \"#46039f\"], [0.2222222222222222, \"#7201a8\"], [0.3333333333333333, \"#9c179e\"], [0.4444444444444444, \"#bd3786\"], [0.5555555555555556, \"#d8576b\"], [0.6666666666666666, \"#ed7953\"], [0.7777777777777778, \"#fb9f3a\"], [0.8888888888888888, \"#fdca26\"], [1.0, \"#f0f921\"]], \"sequentialminus\": [[0.0, \"#0d0887\"], [0.1111111111111111, \"#46039f\"], [0.2222222222222222, \"#7201a8\"], [0.3333333333333333, \"#9c179e\"], [0.4444444444444444, \"#bd3786\"], [0.5555555555555556, \"#d8576b\"], [0.6666666666666666, \"#ed7953\"], [0.7777777777777778, \"#fb9f3a\"], [0.8888888888888888, \"#fdca26\"], [1.0, \"#f0f921\"]]}, \"colorway\": [\"#636efa\", \"#EF553B\", \"#00cc96\", \"#ab63fa\", \"#FFA15A\", \"#19d3f3\", \"#FF6692\", \"#B6E880\", \"#FF97FF\", \"#FECB52\"], \"font\": {\"color\": \"#2a3f5f\"}, \"geo\": {\"bgcolor\": \"white\", \"lakecolor\": \"white\", \"landcolor\": \"#E5ECF6\", \"showlakes\": true, \"showland\": true, \"subunitcolor\": \"white\"}, \"hoverlabel\": {\"align\": \"left\"}, \"hovermode\": \"closest\", \"mapbox\": {\"style\": \"light\"}, \"paper_bgcolor\": \"white\", \"plot_bgcolor\": \"#E5ECF6\", \"polar\": {\"angularaxis\": {\"gridcolor\": \"white\", \"linecolor\": \"white\", \"ticks\": \"\"}, \"bgcolor\": \"#E5ECF6\", \"radialaxis\": {\"gridcolor\": \"white\", \"linecolor\": \"white\", \"ticks\": \"\"}}, \"scene\": {\"xaxis\": {\"backgroundcolor\": \"#E5ECF6\", \"gridcolor\": \"white\", \"gridwidth\": 2, \"linecolor\": \"white\", \"showbackground\": true, \"ticks\": \"\", \"zerolinecolor\": \"white\"}, \"yaxis\": {\"backgroundcolor\": \"#E5ECF6\", \"gridcolor\": \"white\", \"gridwidth\": 2, \"linecolor\": \"white\", \"showbackground\": true, \"ticks\": \"\", \"zerolinecolor\": \"white\"}, \"zaxis\": {\"backgroundcolor\": \"#E5ECF6\", \"gridcolor\": \"white\", \"gridwidth\": 2, \"linecolor\": \"white\", \"showbackground\": true, \"ticks\": \"\", \"zerolinecolor\": \"white\"}}, \"shapedefaults\": {\"line\": {\"color\": \"#2a3f5f\"}}, \"ternary\": {\"aaxis\": {\"gridcolor\": \"white\", \"linecolor\": \"white\", \"ticks\": \"\"}, \"baxis\": {\"gridcolor\": \"white\", \"linecolor\": \"white\", \"ticks\": \"\"}, \"bgcolor\": \"#E5ECF6\", \"caxis\": {\"gridcolor\": \"white\", \"linecolor\": \"white\", \"ticks\": \"\"}}, \"title\": {\"x\": 0.05}, \"xaxis\": {\"automargin\": true, \"gridcolor\": \"white\", \"linecolor\": \"white\", \"ticks\": \"\", \"title\": {\"standoff\": 15}, \"zerolinecolor\": \"white\", \"zerolinewidth\": 2}, \"yaxis\": {\"automargin\": true, \"gridcolor\": \"white\", \"linecolor\": \"white\", \"ticks\": \"\", \"title\": {\"standoff\": 15}, \"zerolinecolor\": \"white\", \"zerolinewidth\": 2}}}, \"title\": {\"text\": \"Time vs Z Displacement (only 2000 observations) \"}, \"xaxis\": {\"anchor\": \"y\", \"domain\": [0.0, 1.0], \"rangeslider\": {\"visible\": true}, \"title\": {\"text\": \"Time\"}}, \"yaxis\": {\"anchor\": \"x\", \"domain\": [0.0, 1.0], \"title\": {\"text\": \"ZDisplacement\"}}},                        {\"responsive\": true}                    ).then(function(){\n",
              "                            \n",
              "var gd = document.getElementById('11805d56-e4d7-4508-8a7f-941032a4b2b0');\n",
              "var x = new MutationObserver(function (mutations, observer) {{\n",
              "        var display = window.getComputedStyle(gd).display;\n",
              "        if (!display || display === 'none') {{\n",
              "            console.log([gd, 'removed!']);\n",
              "            Plotly.purge(gd);\n",
              "            observer.disconnect();\n",
              "        }}\n",
              "}});\n",
              "\n",
              "// Listen for the removal of the full notebook cells\n",
              "var notebookContainer = gd.closest('#notebook-container');\n",
              "if (notebookContainer) {{\n",
              "    x.observe(notebookContainer, {childList: true});\n",
              "}}\n",
              "\n",
              "// Listen for the clearing of the current output cell\n",
              "var outputEl = gd.closest('.output');\n",
              "if (outputEl) {{\n",
              "    x.observe(outputEl, {childList: true});\n",
              "}}\n",
              "\n",
              "                        })                };                });            </script>        </div>"
            ]
          },
          "metadata": {
            "tags": []
          }
        }
      ]
    },
    {
      "cell_type": "code",
      "metadata": {
        "colab_type": "code",
        "id": "HFtqAz6MEP_u",
        "colab": {}
      },
      "source": [
        "newdf = df[:1000] #considering only 2000 points now"
      ],
      "execution_count": null,
      "outputs": []
    },
    {
      "cell_type": "code",
      "metadata": {
        "id": "QLOXMTC3f_hp",
        "colab_type": "code",
        "colab": {},
        "outputId": "61452d62-95c3-4aec-b239-ec249007747f"
      },
      "source": [
        "newdf"
      ],
      "execution_count": null,
      "outputs": [
        {
          "output_type": "execute_result",
          "data": {
            "text/html": [
              "<div>\n",
              "<style scoped>\n",
              "    .dataframe tbody tr th:only-of-type {\n",
              "        vertical-align: middle;\n",
              "    }\n",
              "\n",
              "    .dataframe tbody tr th {\n",
              "        vertical-align: top;\n",
              "    }\n",
              "\n",
              "    .dataframe thead th {\n",
              "        text-align: right;\n",
              "    }\n",
              "</style>\n",
              "<table border=\"1\" class=\"dataframe\">\n",
              "  <thead>\n",
              "    <tr style=\"text-align: right;\">\n",
              "      <th></th>\n",
              "      <th>Time</th>\n",
              "      <th>ZDisplacement</th>\n",
              "    </tr>\n",
              "    <tr>\n",
              "      <th>TimeStamp</th>\n",
              "      <th></th>\n",
              "      <th></th>\n",
              "    </tr>\n",
              "  </thead>\n",
              "  <tbody>\n",
              "    <tr>\n",
              "      <th>2018-07-25 17:57:46.699997000</th>\n",
              "      <td>0</td>\n",
              "      <td>0.59</td>\n",
              "    </tr>\n",
              "    <tr>\n",
              "      <th>2018-07-25 17:57:47.481247018</th>\n",
              "      <td>1</td>\n",
              "      <td>0.57</td>\n",
              "    </tr>\n",
              "    <tr>\n",
              "      <th>2018-07-25 17:57:48.262497037</th>\n",
              "      <td>2</td>\n",
              "      <td>0.47</td>\n",
              "    </tr>\n",
              "    <tr>\n",
              "      <th>2018-07-25 17:57:49.043747055</th>\n",
              "      <td>3</td>\n",
              "      <td>0.46</td>\n",
              "    </tr>\n",
              "    <tr>\n",
              "      <th>2018-07-25 17:57:49.824997073</th>\n",
              "      <td>4</td>\n",
              "      <td>0.34</td>\n",
              "    </tr>\n",
              "    <tr>\n",
              "      <th>...</th>\n",
              "      <td>...</td>\n",
              "      <td>...</td>\n",
              "    </tr>\n",
              "    <tr>\n",
              "      <th>2018-07-25 18:10:44.043765219</th>\n",
              "      <td>995</td>\n",
              "      <td>0.33</td>\n",
              "    </tr>\n",
              "    <tr>\n",
              "      <th>2018-07-25 18:10:44.825015237</th>\n",
              "      <td>996</td>\n",
              "      <td>0.33</td>\n",
              "    </tr>\n",
              "    <tr>\n",
              "      <th>2018-07-25 18:10:45.606265256</th>\n",
              "      <td>997</td>\n",
              "      <td>0.32</td>\n",
              "    </tr>\n",
              "    <tr>\n",
              "      <th>2018-07-25 18:10:46.387515274</th>\n",
              "      <td>998</td>\n",
              "      <td>0.35</td>\n",
              "    </tr>\n",
              "    <tr>\n",
              "      <th>2018-07-25 18:10:47.168765292</th>\n",
              "      <td>999</td>\n",
              "      <td>0.38</td>\n",
              "    </tr>\n",
              "  </tbody>\n",
              "</table>\n",
              "<p>1000 rows × 2 columns</p>\n",
              "</div>"
            ],
            "text/plain": [
              "                               Time  ZDisplacement\n",
              "TimeStamp                                         \n",
              "2018-07-25 17:57:46.699997000     0           0.59\n",
              "2018-07-25 17:57:47.481247018     1           0.57\n",
              "2018-07-25 17:57:48.262497037     2           0.47\n",
              "2018-07-25 17:57:49.043747055     3           0.46\n",
              "2018-07-25 17:57:49.824997073     4           0.34\n",
              "...                             ...            ...\n",
              "2018-07-25 18:10:44.043765219   995           0.33\n",
              "2018-07-25 18:10:44.825015237   996           0.33\n",
              "2018-07-25 18:10:45.606265256   997           0.32\n",
              "2018-07-25 18:10:46.387515274   998           0.35\n",
              "2018-07-25 18:10:47.168765292   999           0.38\n",
              "\n",
              "[1000 rows x 2 columns]"
            ]
          },
          "metadata": {
            "tags": []
          },
          "execution_count": 161
        }
      ]
    },
    {
      "cell_type": "code",
      "metadata": {
        "colab_type": "code",
        "id": "cCXYV4Z1KZ8V",
        "colab": {}
      },
      "source": [
        "newdf = newdf.drop(['Time'], axis=1)"
      ],
      "execution_count": null,
      "outputs": []
    },
    {
      "cell_type": "code",
      "metadata": {
        "colab_type": "code",
        "id": "zZ8A3jAJEubr",
        "colab": {
          "base_uri": "https://localhost:8080/",
          "height": 501
        },
        "outputId": "f739df15-0fc2-42e7-f4bb-7270e6ff6030"
      },
      "source": [
        "newdf.plot(subplots=True)"
      ],
      "execution_count": null,
      "outputs": [
        {
          "output_type": "execute_result",
          "data": {
            "text/plain": [
              "array([<matplotlib.axes._subplots.AxesSubplot object at 0x7ff12e0aa460>],\n",
              "      dtype=object)"
            ]
          },
          "metadata": {
            "tags": []
          },
          "execution_count": 163
        },
        {
          "output_type": "display_data",
          "data": {
            "image/png": "[encoded data removed]",
            "text/plain": [
              "<Figure size 720x576 with 1 Axes>"
            ]
          },
          "metadata": {
            "tags": [],
            "needs_background": "light"
          }
        }
      ]
    },
    {
      "cell_type": "code",
      "metadata": {
        "colab_type": "code",
        "id": "y1PmxzydKYxI",
        "colab": {}
      },
      "source": [
        ""
      ],
      "execution_count": null,
      "outputs": []
    },
    {
      "cell_type": "code",
      "metadata": {
        "colab_type": "code",
        "id": "njRXqMZzEz9F",
        "colab": {
          "base_uri": "https://localhost:8080/",
          "height": 225
        },
        "outputId": "269229df-cacf-4f0a-a4f5-570f20ab1dcb"
      },
      "source": [
        "print (\"Rows     : \" ,newdf.shape[0])\n",
        "print (\"Columns  : \" ,newdf.shape[1])\n",
        "print (\"\\nFeatures : \\n\" ,newdf.columns.tolist())\n",
        "print (\"\\nMissing values :  \", newdf.isnull().any())\n",
        "print (\"\\nUnique values :  \\n\",newdf.nunique())"
      ],
      "execution_count": null,
      "outputs": [
        {
          "output_type": "stream",
          "text": [
            "Rows     :  1000\n",
            "Columns  :  1\n",
            "\n",
            "Features : \n",
            " ['ZDisplacement']\n",
            "\n",
            "Missing values :   ZDisplacement    False\n",
            "dtype: bool\n",
            "\n",
            "Unique values :  \n",
            " ZDisplacement    157\n",
            "dtype: int64\n"
          ],
          "name": "stdout"
        }
      ]
    },
    {
      "cell_type": "markdown",
      "metadata": {
        "id": "TxusLSHsf_iK",
        "colab_type": "text"
      },
      "source": [
        "# Predicting 10 steps ahead using statsmodels"
      ]
    },
    {
      "cell_type": "code",
      "metadata": {
        "colab_type": "code",
        "id": "WaqhlA506csd",
        "colab": {
          "base_uri": "https://localhost:8080/",
          "height": 106
        },
        "outputId": "a5183ebb-125a-4ad4-9ef2-561cb8f5487e"
      },
      "source": [
        "\n",
        "import statsmodels.api as sm\n",
        "from statsmodels.tsa.ar_model import AutoReg\n",
        "# from random import random\n",
        "# contrived dataset\n",
        "# data = [x + random() for x in range(1, 100)]\n",
        "data = newdf[:990]\n",
        "# fit model\n",
        "model = AutoReg(data, lags=1)\n",
        "model_fit = model.fit()\n",
        "# make prediction\n",
        "# yhat = model_fit.predict(len(data), len(data))\n",
        "# print(yhat)"
      ],
      "execution_count": null,
      "outputs": [
        {
          "output_type": "stream",
          "text": [
            "/opt/conda/lib/python3.8/site-packages/statsmodels/tsa/base/tsa_model.py:216: ValueWarning:\n",
            "\n",
            "A date index has been provided, but it has no associated frequency information and so will be ignored when e.g. forecasting.\n",
            "\n"
          ],
          "name": "stderr"
        }
      ]
    },
    {
      "cell_type": "code",
      "metadata": {
        "colab_type": "code",
        "id": "qoEzK1wR6WSL",
        "colab": {}
      },
      "source": [
        ""
      ],
      "execution_count": null,
      "outputs": []
    },
    {
      "cell_type": "code",
      "metadata": {
        "colab_type": "code",
        "id": "_j-efs_G-HQp",
        "colab": {}
      },
      "source": [
        "\n"
      ],
      "execution_count": null,
      "outputs": []
    },
    {
      "cell_type": "code",
      "metadata": {
        "id": "2n6bsZ2Yf_if",
        "colab_type": "code",
        "colab": {},
        "outputId": "40574578-d4f9-4020-d5af-52425e0d7042"
      },
      "source": [
        "data"
      ],
      "execution_count": null,
      "outputs": [
        {
          "output_type": "execute_result",
          "data": {
            "text/html": [
              "<div>\n",
              "<style scoped>\n",
              "    .dataframe tbody tr th:only-of-type {\n",
              "        vertical-align: middle;\n",
              "    }\n",
              "\n",
              "    .dataframe tbody tr th {\n",
              "        vertical-align: top;\n",
              "    }\n",
              "\n",
              "    .dataframe thead th {\n",
              "        text-align: right;\n",
              "    }\n",
              "</style>\n",
              "<table border=\"1\" class=\"dataframe\">\n",
              "  <thead>\n",
              "    <tr style=\"text-align: right;\">\n",
              "      <th></th>\n",
              "      <th>ZDisplacement</th>\n",
              "    </tr>\n",
              "    <tr>\n",
              "      <th>TimeStamp</th>\n",
              "      <th></th>\n",
              "    </tr>\n",
              "  </thead>\n",
              "  <tbody>\n",
              "    <tr>\n",
              "      <th>2018-07-25 17:57:46.699997000</th>\n",
              "      <td>0.59</td>\n",
              "    </tr>\n",
              "    <tr>\n",
              "      <th>2018-07-25 17:57:47.481247018</th>\n",
              "      <td>0.57</td>\n",
              "    </tr>\n",
              "    <tr>\n",
              "      <th>2018-07-25 17:57:48.262497037</th>\n",
              "      <td>0.47</td>\n",
              "    </tr>\n",
              "    <tr>\n",
              "      <th>2018-07-25 17:57:49.043747055</th>\n",
              "      <td>0.46</td>\n",
              "    </tr>\n",
              "    <tr>\n",
              "      <th>2018-07-25 17:57:49.824997073</th>\n",
              "      <td>0.34</td>\n",
              "    </tr>\n",
              "    <tr>\n",
              "      <th>...</th>\n",
              "      <td>...</td>\n",
              "    </tr>\n",
              "    <tr>\n",
              "      <th>2018-07-25 18:10:36.231265036</th>\n",
              "      <td>-0.05</td>\n",
              "    </tr>\n",
              "    <tr>\n",
              "      <th>2018-07-25 18:10:37.012515054</th>\n",
              "      <td>-0.14</td>\n",
              "    </tr>\n",
              "    <tr>\n",
              "      <th>2018-07-25 18:10:37.793765073</th>\n",
              "      <td>-0.41</td>\n",
              "    </tr>\n",
              "    <tr>\n",
              "      <th>2018-07-25 18:10:38.575015091</th>\n",
              "      <td>-0.55</td>\n",
              "    </tr>\n",
              "    <tr>\n",
              "      <th>2018-07-25 18:10:39.356265109</th>\n",
              "      <td>-0.38</td>\n",
              "    </tr>\n",
              "  </tbody>\n",
              "</table>\n",
              "<p>990 rows × 1 columns</p>\n",
              "</div>"
            ],
            "text/plain": [
              "                               ZDisplacement\n",
              "TimeStamp                                   \n",
              "2018-07-25 17:57:46.699997000           0.59\n",
              "2018-07-25 17:57:47.481247018           0.57\n",
              "2018-07-25 17:57:48.262497037           0.47\n",
              "2018-07-25 17:57:49.043747055           0.46\n",
              "2018-07-25 17:57:49.824997073           0.34\n",
              "...                                      ...\n",
              "2018-07-25 18:10:36.231265036          -0.05\n",
              "2018-07-25 18:10:37.012515054          -0.14\n",
              "2018-07-25 18:10:37.793765073          -0.41\n",
              "2018-07-25 18:10:38.575015091          -0.55\n",
              "2018-07-25 18:10:39.356265109          -0.38\n",
              "\n",
              "[990 rows x 1 columns]"
            ]
          },
          "metadata": {
            "tags": []
          },
          "execution_count": 166
        }
      ]
    },
    {
      "cell_type": "code",
      "metadata": {
        "id": "vRJNb5Sdf_im",
        "colab_type": "code",
        "colab": {}
      },
      "source": [
        ""
      ],
      "execution_count": null,
      "outputs": []
    },
    {
      "cell_type": "code",
      "metadata": {
        "id": "X-43UApbf_ir",
        "colab_type": "code",
        "colab": {},
        "outputId": "f3279660-5fab-4b8f-907e-7058afab3281"
      },
      "source": [
        "newdf.shape"
      ],
      "execution_count": null,
      "outputs": [
        {
          "output_type": "execute_result",
          "data": {
            "text/plain": [
              "(1000, 1)"
            ]
          },
          "metadata": {
            "tags": []
          },
          "execution_count": 167
        }
      ]
    },
    {
      "cell_type": "code",
      "metadata": {
        "id": "KgcmjW-wf_ix",
        "colab_type": "code",
        "colab": {}
      },
      "source": [
        "test=newdf[(newdf.index.get_level_values(0) > '2018-07-25 18:10:39.356265109')]"
      ],
      "execution_count": null,
      "outputs": []
    },
    {
      "cell_type": "code",
      "metadata": {
        "id": "tNNMyfUAf_i4",
        "colab_type": "code",
        "colab": {},
        "outputId": "cb8f1b12-e446-45de-9920-506eac0275a0"
      },
      "source": [
        "test.shape"
      ],
      "execution_count": null,
      "outputs": [
        {
          "output_type": "execute_result",
          "data": {
            "text/plain": [
              "(10, 1)"
            ]
          },
          "metadata": {
            "tags": []
          },
          "execution_count": 169
        }
      ]
    },
    {
      "cell_type": "code",
      "metadata": {
        "id": "QZBDiMyTf_i8",
        "colab_type": "code",
        "colab": {},
        "outputId": "021f4d64-7af4-48fd-f4aa-175be7639c94"
      },
      "source": [
        "test['Prediction'] = np.nan"
      ],
      "execution_count": null,
      "outputs": [
        {
          "output_type": "stream",
          "text": [
            "<ipython-input-170-5804783da334>:1: SettingWithCopyWarning:\n",
            "\n",
            "\n",
            "A value is trying to be set on a copy of a slice from a DataFrame.\n",
            "Try using .loc[row_indexer,col_indexer] = value instead\n",
            "\n",
            "See the caveats in the documentation: https://pandas.pydata.org/pandas-docs/stable/user_guide/indexing.html#returning-a-view-versus-a-copy\n",
            "\n"
          ],
          "name": "stderr"
        }
      ]
    },
    {
      "cell_type": "code",
      "metadata": {
        "id": "LenLwDmgf_jD",
        "colab_type": "code",
        "colab": {},
        "outputId": "83302ee6-fbea-4065-9a9b-cc9fb82ba1f9"
      },
      "source": [
        "for i in range(10):\n",
        "    yhat = model_fit.predict(len(data), len(data)+i)"
      ],
      "execution_count": null,
      "outputs": [
        {
          "output_type": "stream",
          "text": [
            "/opt/conda/lib/python3.8/site-packages/statsmodels/tsa/base/tsa_model.py:580: ValueWarning:\n",
            "\n",
            "No supported index is available. Prediction results will be given with an integer index beginning at `start`.\n",
            "\n",
            "/opt/conda/lib/python3.8/site-packages/statsmodels/tsa/base/tsa_model.py:580: ValueWarning:\n",
            "\n",
            "No supported index is available. Prediction results will be given with an integer index beginning at `start`.\n",
            "\n",
            "/opt/conda/lib/python3.8/site-packages/statsmodels/tsa/base/tsa_model.py:580: ValueWarning:\n",
            "\n",
            "No supported index is available. Prediction results will be given with an integer index beginning at `start`.\n",
            "\n",
            "/opt/conda/lib/python3.8/site-packages/statsmodels/tsa/base/tsa_model.py:580: ValueWarning:\n",
            "\n",
            "No supported index is available. Prediction results will be given with an integer index beginning at `start`.\n",
            "\n",
            "/opt/conda/lib/python3.8/site-packages/statsmodels/tsa/base/tsa_model.py:580: ValueWarning:\n",
            "\n",
            "No supported index is available. Prediction results will be given with an integer index beginning at `start`.\n",
            "\n",
            "/opt/conda/lib/python3.8/site-packages/statsmodels/tsa/base/tsa_model.py:580: ValueWarning:\n",
            "\n",
            "No supported index is available. Prediction results will be given with an integer index beginning at `start`.\n",
            "\n",
            "/opt/conda/lib/python3.8/site-packages/statsmodels/tsa/base/tsa_model.py:580: ValueWarning:\n",
            "\n",
            "No supported index is available. Prediction results will be given with an integer index beginning at `start`.\n",
            "\n",
            "/opt/conda/lib/python3.8/site-packages/statsmodels/tsa/base/tsa_model.py:580: ValueWarning:\n",
            "\n",
            "No supported index is available. Prediction results will be given with an integer index beginning at `start`.\n",
            "\n",
            "/opt/conda/lib/python3.8/site-packages/statsmodels/tsa/base/tsa_model.py:580: ValueWarning:\n",
            "\n",
            "No supported index is available. Prediction results will be given with an integer index beginning at `start`.\n",
            "\n",
            "/opt/conda/lib/python3.8/site-packages/statsmodels/tsa/base/tsa_model.py:580: ValueWarning:\n",
            "\n",
            "No supported index is available. Prediction results will be given with an integer index beginning at `start`.\n",
            "\n"
          ],
          "name": "stderr"
        }
      ]
    },
    {
      "cell_type": "code",
      "metadata": {
        "id": "AocA7SEhf_jH",
        "colab_type": "code",
        "colab": {}
      },
      "source": [
        "yhat = pd.DataFrame({'TimeStamp':yhat.index, 'Prediction':yhat.values})"
      ],
      "execution_count": null,
      "outputs": []
    },
    {
      "cell_type": "code",
      "metadata": {
        "id": "gEqo2GKIf_jN",
        "colab_type": "code",
        "colab": {},
        "outputId": "6224588d-f9d2-4699-e675-0b908be473b4"
      },
      "source": [
        "data"
      ],
      "execution_count": null,
      "outputs": [
        {
          "output_type": "execute_result",
          "data": {
            "text/html": [
              "<div>\n",
              "<style scoped>\n",
              "    .dataframe tbody tr th:only-of-type {\n",
              "        vertical-align: middle;\n",
              "    }\n",
              "\n",
              "    .dataframe tbody tr th {\n",
              "        vertical-align: top;\n",
              "    }\n",
              "\n",
              "    .dataframe thead th {\n",
              "        text-align: right;\n",
              "    }\n",
              "</style>\n",
              "<table border=\"1\" class=\"dataframe\">\n",
              "  <thead>\n",
              "    <tr style=\"text-align: right;\">\n",
              "      <th></th>\n",
              "      <th>ZDisplacement</th>\n",
              "    </tr>\n",
              "    <tr>\n",
              "      <th>TimeStamp</th>\n",
              "      <th></th>\n",
              "    </tr>\n",
              "  </thead>\n",
              "  <tbody>\n",
              "    <tr>\n",
              "      <th>2018-07-25 17:57:46.699997000</th>\n",
              "      <td>0.59</td>\n",
              "    </tr>\n",
              "    <tr>\n",
              "      <th>2018-07-25 17:57:47.481247018</th>\n",
              "      <td>0.57</td>\n",
              "    </tr>\n",
              "    <tr>\n",
              "      <th>2018-07-25 17:57:48.262497037</th>\n",
              "      <td>0.47</td>\n",
              "    </tr>\n",
              "    <tr>\n",
              "      <th>2018-07-25 17:57:49.043747055</th>\n",
              "      <td>0.46</td>\n",
              "    </tr>\n",
              "    <tr>\n",
              "      <th>2018-07-25 17:57:49.824997073</th>\n",
              "      <td>0.34</td>\n",
              "    </tr>\n",
              "    <tr>\n",
              "      <th>...</th>\n",
              "      <td>...</td>\n",
              "    </tr>\n",
              "    <tr>\n",
              "      <th>2018-07-25 18:10:36.231265036</th>\n",
              "      <td>-0.05</td>\n",
              "    </tr>\n",
              "    <tr>\n",
              "      <th>2018-07-25 18:10:37.012515054</th>\n",
              "      <td>-0.14</td>\n",
              "    </tr>\n",
              "    <tr>\n",
              "      <th>2018-07-25 18:10:37.793765073</th>\n",
              "      <td>-0.41</td>\n",
              "    </tr>\n",
              "    <tr>\n",
              "      <th>2018-07-25 18:10:38.575015091</th>\n",
              "      <td>-0.55</td>\n",
              "    </tr>\n",
              "    <tr>\n",
              "      <th>2018-07-25 18:10:39.356265109</th>\n",
              "      <td>-0.38</td>\n",
              "    </tr>\n",
              "  </tbody>\n",
              "</table>\n",
              "<p>990 rows × 1 columns</p>\n",
              "</div>"
            ],
            "text/plain": [
              "                               ZDisplacement\n",
              "TimeStamp                                   \n",
              "2018-07-25 17:57:46.699997000           0.59\n",
              "2018-07-25 17:57:47.481247018           0.57\n",
              "2018-07-25 17:57:48.262497037           0.47\n",
              "2018-07-25 17:57:49.043747055           0.46\n",
              "2018-07-25 17:57:49.824997073           0.34\n",
              "...                                      ...\n",
              "2018-07-25 18:10:36.231265036          -0.05\n",
              "2018-07-25 18:10:37.012515054          -0.14\n",
              "2018-07-25 18:10:37.793765073          -0.41\n",
              "2018-07-25 18:10:38.575015091          -0.55\n",
              "2018-07-25 18:10:39.356265109          -0.38\n",
              "\n",
              "[990 rows x 1 columns]"
            ]
          },
          "metadata": {
            "tags": []
          },
          "execution_count": 173
        }
      ]
    },
    {
      "cell_type": "code",
      "metadata": {
        "id": "qx8rCW-Of_jR",
        "colab_type": "code",
        "colab": {}
      },
      "source": [
        "lis = list(yhat['Prediction'])"
      ],
      "execution_count": null,
      "outputs": []
    },
    {
      "cell_type": "code",
      "metadata": {
        "id": "VLwRYSuXf_jZ",
        "colab_type": "code",
        "colab": {}
      },
      "source": [
        "forecast_df = pd.DataFrame(lis,index = test.index,columns=['Prediction'])"
      ],
      "execution_count": null,
      "outputs": []
    },
    {
      "cell_type": "code",
      "metadata": {
        "id": "Ugu4_NvUf_jc",
        "colab_type": "code",
        "colab": {},
        "outputId": "a7c32ef3-4514-4ca7-ef7e-33f39f928805"
      },
      "source": [
        "forecast_df"
      ],
      "execution_count": null,
      "outputs": [
        {
          "output_type": "execute_result",
          "data": {
            "text/html": [
              "<div>\n",
              "<style scoped>\n",
              "    .dataframe tbody tr th:only-of-type {\n",
              "        vertical-align: middle;\n",
              "    }\n",
              "\n",
              "    .dataframe tbody tr th {\n",
              "        vertical-align: top;\n",
              "    }\n",
              "\n",
              "    .dataframe thead th {\n",
              "        text-align: right;\n",
              "    }\n",
              "</style>\n",
              "<table border=\"1\" class=\"dataframe\">\n",
              "  <thead>\n",
              "    <tr style=\"text-align: right;\">\n",
              "      <th></th>\n",
              "      <th>Prediction</th>\n",
              "    </tr>\n",
              "    <tr>\n",
              "      <th>TimeStamp</th>\n",
              "      <th></th>\n",
              "    </tr>\n",
              "  </thead>\n",
              "  <tbody>\n",
              "    <tr>\n",
              "      <th>2018-07-25 18:10:40.137515127</th>\n",
              "      <td>-0.326012</td>\n",
              "    </tr>\n",
              "    <tr>\n",
              "      <th>2018-07-25 18:10:40.918765146</th>\n",
              "      <td>-0.279816</td>\n",
              "    </tr>\n",
              "    <tr>\n",
              "      <th>2018-07-25 18:10:41.700015164</th>\n",
              "      <td>-0.240289</td>\n",
              "    </tr>\n",
              "    <tr>\n",
              "      <th>2018-07-25 18:10:42.481265182</th>\n",
              "      <td>-0.206467</td>\n",
              "    </tr>\n",
              "    <tr>\n",
              "      <th>2018-07-25 18:10:43.262515200</th>\n",
              "      <td>-0.177526</td>\n",
              "    </tr>\n",
              "    <tr>\n",
              "      <th>2018-07-25 18:10:44.043765219</th>\n",
              "      <td>-0.152763</td>\n",
              "    </tr>\n",
              "    <tr>\n",
              "      <th>2018-07-25 18:10:44.825015237</th>\n",
              "      <td>-0.131575</td>\n",
              "    </tr>\n",
              "    <tr>\n",
              "      <th>2018-07-25 18:10:45.606265256</th>\n",
              "      <td>-0.113444</td>\n",
              "    </tr>\n",
              "    <tr>\n",
              "      <th>2018-07-25 18:10:46.387515274</th>\n",
              "      <td>-0.097931</td>\n",
              "    </tr>\n",
              "    <tr>\n",
              "      <th>2018-07-25 18:10:47.168765292</th>\n",
              "      <td>-0.084657</td>\n",
              "    </tr>\n",
              "  </tbody>\n",
              "</table>\n",
              "</div>"
            ],
            "text/plain": [
              "                               Prediction\n",
              "TimeStamp                                \n",
              "2018-07-25 18:10:40.137515127   -0.326012\n",
              "2018-07-25 18:10:40.918765146   -0.279816\n",
              "2018-07-25 18:10:41.700015164   -0.240289\n",
              "2018-07-25 18:10:42.481265182   -0.206467\n",
              "2018-07-25 18:10:43.262515200   -0.177526\n",
              "2018-07-25 18:10:44.043765219   -0.152763\n",
              "2018-07-25 18:10:44.825015237   -0.131575\n",
              "2018-07-25 18:10:45.606265256   -0.113444\n",
              "2018-07-25 18:10:46.387515274   -0.097931\n",
              "2018-07-25 18:10:47.168765292   -0.084657"
            ]
          },
          "metadata": {
            "tags": []
          },
          "execution_count": 176
        }
      ]
    },
    {
      "cell_type": "code",
      "metadata": {
        "id": "I5_-xaWKf_jh",
        "colab_type": "code",
        "colab": {},
        "outputId": "7e4b4f4f-b93b-434e-fe2c-925f0199a072"
      },
      "source": [
        "pd.concat([newdf['ZDisplacement'][500:],forecast_df],axis=1).plot()"
      ],
      "execution_count": null,
      "outputs": [
        {
          "output_type": "execute_result",
          "data": {
            "text/plain": [
              "<matplotlib.axes._subplots.AxesSubplot at 0x7ff12de65820>"
            ]
          },
          "metadata": {
            "tags": []
          },
          "execution_count": 181
        },
        {
          "output_type": "display_data",
          "data": {
            "image/png": "[encoded data removed]",
            "text/plain": [
              "<Figure size 720x576 with 1 Axes>"
            ]
          },
          "metadata": {
            "tags": [],
            "needs_background": "light"
          }
        }
      ]
    },
    {
      "cell_type": "markdown",
      "metadata": {
        "id": "1wugkHq9f_jo",
        "colab_type": "raw"
      },
      "source": [
        ""
      ]
    },
    {
      "cell_type": "code",
      "metadata": {
        "id": "FL8rxkCaf_jp",
        "colab_type": "code",
        "colab": {}
      },
      "source": [
        ""
      ],
      "execution_count": null,
      "outputs": []
    },
    {
      "cell_type": "code",
      "metadata": {
        "id": "IMUz1apvf_jt",
        "colab_type": "code",
        "colab": {}
      },
      "source": [
        ""
      ],
      "execution_count": null,
      "outputs": []
    },
    {
      "cell_type": "markdown",
      "metadata": {
        "id": "afgbDDhTf_jw",
        "colab_type": "text"
      },
      "source": [
        "# Predicting 30 steps ahead using statsmodels"
      ]
    },
    {
      "cell_type": "code",
      "metadata": {
        "id": "5a3dBFt4f_jx",
        "colab_type": "code",
        "colab": {},
        "outputId": "36446917-3196-4077-96ab-afdf9e9889ee"
      },
      "source": [
        "import statsmodels.api as sm\n",
        "from statsmodels.tsa.ar_model import AutoReg\n",
        "# from random import random\n",
        "# contrived dataset\n",
        "# data = [x + random() for x in range(1, 100)]\n",
        "data = newdf[:970]\n",
        "# fit model\n",
        "model = AutoReg(data, lags=1)\n",
        "model_fit = model.fit()\n",
        "# make prediction\n",
        "# yhat = model_fit.predict(len(data), len(data))\n",
        "# print(yhat)"
      ],
      "execution_count": null,
      "outputs": [
        {
          "output_type": "stream",
          "text": [
            "/opt/conda/lib/python3.8/site-packages/statsmodels/tsa/base/tsa_model.py:216: ValueWarning:\n",
            "\n",
            "A date index has been provided, but it has no associated frequency information and so will be ignored when e.g. forecasting.\n",
            "\n"
          ],
          "name": "stderr"
        }
      ]
    },
    {
      "cell_type": "code",
      "metadata": {
        "id": "Umzblfeqf_j2",
        "colab_type": "code",
        "colab": {},
        "outputId": "d1ae0707-1a0f-442e-ce7e-46610ec3b3f1"
      },
      "source": [
        "data"
      ],
      "execution_count": null,
      "outputs": [
        {
          "output_type": "execute_result",
          "data": {
            "text/html": [
              "<div>\n",
              "<style scoped>\n",
              "    .dataframe tbody tr th:only-of-type {\n",
              "        vertical-align: middle;\n",
              "    }\n",
              "\n",
              "    .dataframe tbody tr th {\n",
              "        vertical-align: top;\n",
              "    }\n",
              "\n",
              "    .dataframe thead th {\n",
              "        text-align: right;\n",
              "    }\n",
              "</style>\n",
              "<table border=\"1\" class=\"dataframe\">\n",
              "  <thead>\n",
              "    <tr style=\"text-align: right;\">\n",
              "      <th></th>\n",
              "      <th>ZDisplacement</th>\n",
              "    </tr>\n",
              "    <tr>\n",
              "      <th>TimeStamp</th>\n",
              "      <th></th>\n",
              "    </tr>\n",
              "  </thead>\n",
              "  <tbody>\n",
              "    <tr>\n",
              "      <th>2018-07-25 17:57:46.699997000</th>\n",
              "      <td>0.59</td>\n",
              "    </tr>\n",
              "    <tr>\n",
              "      <th>2018-07-25 17:57:47.481247018</th>\n",
              "      <td>0.57</td>\n",
              "    </tr>\n",
              "    <tr>\n",
              "      <th>2018-07-25 17:57:48.262497037</th>\n",
              "      <td>0.47</td>\n",
              "    </tr>\n",
              "    <tr>\n",
              "      <th>2018-07-25 17:57:49.043747055</th>\n",
              "      <td>0.46</td>\n",
              "    </tr>\n",
              "    <tr>\n",
              "      <th>2018-07-25 17:57:49.824997073</th>\n",
              "      <td>0.34</td>\n",
              "    </tr>\n",
              "    <tr>\n",
              "      <th>...</th>\n",
              "      <td>...</td>\n",
              "    </tr>\n",
              "    <tr>\n",
              "      <th>2018-07-25 18:10:20.606264670</th>\n",
              "      <td>-0.48</td>\n",
              "    </tr>\n",
              "    <tr>\n",
              "      <th>2018-07-25 18:10:21.387514688</th>\n",
              "      <td>-0.48</td>\n",
              "    </tr>\n",
              "    <tr>\n",
              "      <th>2018-07-25 18:10:22.168764706</th>\n",
              "      <td>-0.47</td>\n",
              "    </tr>\n",
              "    <tr>\n",
              "      <th>2018-07-25 18:10:22.950014725</th>\n",
              "      <td>-0.44</td>\n",
              "    </tr>\n",
              "    <tr>\n",
              "      <th>2018-07-25 18:10:23.731264743</th>\n",
              "      <td>-0.05</td>\n",
              "    </tr>\n",
              "  </tbody>\n",
              "</table>\n",
              "<p>970 rows × 1 columns</p>\n",
              "</div>"
            ],
            "text/plain": [
              "                               ZDisplacement\n",
              "TimeStamp                                   \n",
              "2018-07-25 17:57:46.699997000           0.59\n",
              "2018-07-25 17:57:47.481247018           0.57\n",
              "2018-07-25 17:57:48.262497037           0.47\n",
              "2018-07-25 17:57:49.043747055           0.46\n",
              "2018-07-25 17:57:49.824997073           0.34\n",
              "...                                      ...\n",
              "2018-07-25 18:10:20.606264670          -0.48\n",
              "2018-07-25 18:10:21.387514688          -0.48\n",
              "2018-07-25 18:10:22.168764706          -0.47\n",
              "2018-07-25 18:10:22.950014725          -0.44\n",
              "2018-07-25 18:10:23.731264743          -0.05\n",
              "\n",
              "[970 rows x 1 columns]"
            ]
          },
          "metadata": {
            "tags": []
          },
          "execution_count": 184
        }
      ]
    },
    {
      "cell_type": "code",
      "metadata": {
        "id": "ix6l9syOf_j8",
        "colab_type": "code",
        "colab": {}
      },
      "source": [
        "test=newdf[(newdf.index.get_level_values(0) > '2018-07-25 18:10:23.731264743')]"
      ],
      "execution_count": null,
      "outputs": []
    },
    {
      "cell_type": "code",
      "metadata": {
        "id": "7Ckl7rU6f_kA",
        "colab_type": "code",
        "colab": {},
        "outputId": "c78385fb-06c4-4f14-8066-98cc4e939144"
      },
      "source": [
        "for i in range(30):\n",
        "    yhat = model_fit.predict(len(data), len(data)+i)"
      ],
      "execution_count": null,
      "outputs": [
        {
          "output_type": "stream",
          "text": [
            "/opt/conda/lib/python3.8/site-packages/statsmodels/tsa/base/tsa_model.py:580: ValueWarning:\n",
            "\n",
            "No supported index is available. Prediction results will be given with an integer index beginning at `start`.\n",
            "\n",
            "/opt/conda/lib/python3.8/site-packages/statsmodels/tsa/base/tsa_model.py:580: ValueWarning:\n",
            "\n",
            "No supported index is available. Prediction results will be given with an integer index beginning at `start`.\n",
            "\n",
            "/opt/conda/lib/python3.8/site-packages/statsmodels/tsa/base/tsa_model.py:580: ValueWarning:\n",
            "\n",
            "No supported index is available. Prediction results will be given with an integer index beginning at `start`.\n",
            "\n",
            "/opt/conda/lib/python3.8/site-packages/statsmodels/tsa/base/tsa_model.py:580: ValueWarning:\n",
            "\n",
            "No supported index is available. Prediction results will be given with an integer index beginning at `start`.\n",
            "\n",
            "/opt/conda/lib/python3.8/site-packages/statsmodels/tsa/base/tsa_model.py:580: ValueWarning:\n",
            "\n",
            "No supported index is available. Prediction results will be given with an integer index beginning at `start`.\n",
            "\n",
            "/opt/conda/lib/python3.8/site-packages/statsmodels/tsa/base/tsa_model.py:580: ValueWarning:\n",
            "\n",
            "No supported index is available. Prediction results will be given with an integer index beginning at `start`.\n",
            "\n",
            "/opt/conda/lib/python3.8/site-packages/statsmodels/tsa/base/tsa_model.py:580: ValueWarning:\n",
            "\n",
            "No supported index is available. Prediction results will be given with an integer index beginning at `start`.\n",
            "\n",
            "/opt/conda/lib/python3.8/site-packages/statsmodels/tsa/base/tsa_model.py:580: ValueWarning:\n",
            "\n",
            "No supported index is available. Prediction results will be given with an integer index beginning at `start`.\n",
            "\n",
            "/opt/conda/lib/python3.8/site-packages/statsmodels/tsa/base/tsa_model.py:580: ValueWarning:\n",
            "\n",
            "No supported index is available. Prediction results will be given with an integer index beginning at `start`.\n",
            "\n",
            "/opt/conda/lib/python3.8/site-packages/statsmodels/tsa/base/tsa_model.py:580: ValueWarning:\n",
            "\n",
            "No supported index is available. Prediction results will be given with an integer index beginning at `start`.\n",
            "\n",
            "/opt/conda/lib/python3.8/site-packages/statsmodels/tsa/base/tsa_model.py:580: ValueWarning:\n",
            "\n",
            "No supported index is available. Prediction results will be given with an integer index beginning at `start`.\n",
            "\n",
            "/opt/conda/lib/python3.8/site-packages/statsmodels/tsa/base/tsa_model.py:580: ValueWarning:\n",
            "\n",
            "No supported index is available. Prediction results will be given with an integer index beginning at `start`.\n",
            "\n",
            "/opt/conda/lib/python3.8/site-packages/statsmodels/tsa/base/tsa_model.py:580: ValueWarning:\n",
            "\n",
            "No supported index is available. Prediction results will be given with an integer index beginning at `start`.\n",
            "\n",
            "/opt/conda/lib/python3.8/site-packages/statsmodels/tsa/base/tsa_model.py:580: ValueWarning:\n",
            "\n",
            "No supported index is available. Prediction results will be given with an integer index beginning at `start`.\n",
            "\n",
            "/opt/conda/lib/python3.8/site-packages/statsmodels/tsa/base/tsa_model.py:580: ValueWarning:\n",
            "\n",
            "No supported index is available. Prediction results will be given with an integer index beginning at `start`.\n",
            "\n",
            "/opt/conda/lib/python3.8/site-packages/statsmodels/tsa/base/tsa_model.py:580: ValueWarning:\n",
            "\n",
            "No supported index is available. Prediction results will be given with an integer index beginning at `start`.\n",
            "\n",
            "/opt/conda/lib/python3.8/site-packages/statsmodels/tsa/base/tsa_model.py:580: ValueWarning:\n",
            "\n",
            "No supported index is available. Prediction results will be given with an integer index beginning at `start`.\n",
            "\n",
            "/opt/conda/lib/python3.8/site-packages/statsmodels/tsa/base/tsa_model.py:580: ValueWarning:\n",
            "\n",
            "No supported index is available. Prediction results will be given with an integer index beginning at `start`.\n",
            "\n",
            "/opt/conda/lib/python3.8/site-packages/statsmodels/tsa/base/tsa_model.py:580: ValueWarning:\n",
            "\n",
            "No supported index is available. Prediction results will be given with an integer index beginning at `start`.\n",
            "\n",
            "/opt/conda/lib/python3.8/site-packages/statsmodels/tsa/base/tsa_model.py:580: ValueWarning:\n",
            "\n",
            "No supported index is available. Prediction results will be given with an integer index beginning at `start`.\n",
            "\n",
            "/opt/conda/lib/python3.8/site-packages/statsmodels/tsa/base/tsa_model.py:580: ValueWarning:\n",
            "\n",
            "No supported index is available. Prediction results will be given with an integer index beginning at `start`.\n",
            "\n",
            "/opt/conda/lib/python3.8/site-packages/statsmodels/tsa/base/tsa_model.py:580: ValueWarning:\n",
            "\n",
            "No supported index is available. Prediction results will be given with an integer index beginning at `start`.\n",
            "\n",
            "/opt/conda/lib/python3.8/site-packages/statsmodels/tsa/base/tsa_model.py:580: ValueWarning:\n",
            "\n",
            "No supported index is available. Prediction results will be given with an integer index beginning at `start`.\n",
            "\n",
            "/opt/conda/lib/python3.8/site-packages/statsmodels/tsa/base/tsa_model.py:580: ValueWarning:\n",
            "\n",
            "No supported index is available. Prediction results will be given with an integer index beginning at `start`.\n",
            "\n",
            "/opt/conda/lib/python3.8/site-packages/statsmodels/tsa/base/tsa_model.py:580: ValueWarning:\n",
            "\n",
            "No supported index is available. Prediction results will be given with an integer index beginning at `start`.\n",
            "\n",
            "/opt/conda/lib/python3.8/site-packages/statsmodels/tsa/base/tsa_model.py:580: ValueWarning:\n",
            "\n",
            "No supported index is available. Prediction results will be given with an integer index beginning at `start`.\n",
            "\n",
            "/opt/conda/lib/python3.8/site-packages/statsmodels/tsa/base/tsa_model.py:580: ValueWarning:\n",
            "\n",
            "No supported index is available. Prediction results will be given with an integer index beginning at `start`.\n",
            "\n",
            "/opt/conda/lib/python3.8/site-packages/statsmodels/tsa/base/tsa_model.py:580: ValueWarning:\n",
            "\n",
            "No supported index is available. Prediction results will be given with an integer index beginning at `start`.\n",
            "\n",
            "/opt/conda/lib/python3.8/site-packages/statsmodels/tsa/base/tsa_model.py:580: ValueWarning:\n",
            "\n",
            "No supported index is available. Prediction results will be given with an integer index beginning at `start`.\n",
            "\n",
            "/opt/conda/lib/python3.8/site-packages/statsmodels/tsa/base/tsa_model.py:580: ValueWarning:\n",
            "\n",
            "No supported index is available. Prediction results will be given with an integer index beginning at `start`.\n",
            "\n"
          ],
          "name": "stderr"
        }
      ]
    },
    {
      "cell_type": "code",
      "metadata": {
        "id": "bm-7bYNAf_kM",
        "colab_type": "code",
        "colab": {}
      },
      "source": [
        "yhat = pd.DataFrame({'TimeStamp':yhat.index, 'Prediction':yhat.values})\n",
        "lis = list(yhat['Prediction'])"
      ],
      "execution_count": null,
      "outputs": []
    },
    {
      "cell_type": "code",
      "metadata": {
        "id": "UdJnMbuKf_kU",
        "colab_type": "code",
        "colab": {}
      },
      "source": [
        "forecast_df = pd.DataFrame(lis,index = test.index,columns=['Prediction'])"
      ],
      "execution_count": null,
      "outputs": []
    },
    {
      "cell_type": "code",
      "metadata": {
        "id": "XRCjLUiQf_kY",
        "colab_type": "code",
        "colab": {},
        "outputId": "71256d4a-f766-4b69-c9ac-bc4dcbfce36e"
      },
      "source": [
        "pd.concat([newdf['ZDisplacement'][900:],forecast_df],axis=1).plot()"
      ],
      "execution_count": null,
      "outputs": [
        {
          "output_type": "execute_result",
          "data": {
            "text/plain": [
              "<matplotlib.axes._subplots.AxesSubplot at 0x7ff12dd4ea00>"
            ]
          },
          "metadata": {
            "tags": []
          },
          "execution_count": 194
        },
        {
          "output_type": "display_data",
          "data": {
            "image/png": "[encoded data removed]",
            "text/plain": [
              "<Figure size 720x576 with 1 Axes>"
            ]
          },
          "metadata": {
            "tags": [],
            "needs_background": "light"
          }
        }
      ]
    },
    {
      "cell_type": "code",
      "metadata": {
        "id": "bY-lDfcCf_ke",
        "colab_type": "code",
        "colab": {}
      },
      "source": [
        ""
      ],
      "execution_count": null,
      "outputs": []
    },
    {
      "cell_type": "code",
      "metadata": {
        "id": "CXpdNjS2f_kk",
        "colab_type": "code",
        "colab": {}
      },
      "source": [
        ""
      ],
      "execution_count": null,
      "outputs": []
    },
    {
      "cell_type": "markdown",
      "metadata": {
        "id": "Ba0LHiZZf_kn",
        "colab_type": "text"
      },
      "source": [
        "# Autoregression Models"
      ]
    },
    {
      "cell_type": "code",
      "metadata": {
        "id": "mETKZ6hOf_kp",
        "colab_type": "code",
        "colab": {}
      },
      "source": [
        "df = df.drop(['Time'],axis=1)"
      ],
      "execution_count": null,
      "outputs": []
    },
    {
      "cell_type": "code",
      "metadata": {
        "id": "67cycdJBf_kt",
        "colab_type": "code",
        "colab": {},
        "outputId": "e53da80a-261f-4c9b-b3a2-8a1350e6a35d"
      },
      "source": [
        "df.plot()"
      ],
      "execution_count": null,
      "outputs": [
        {
          "output_type": "execute_result",
          "data": {
            "text/plain": [
              "<matplotlib.axes._subplots.AxesSubplot at 0x7ff12d7b6fa0>"
            ]
          },
          "metadata": {
            "tags": []
          },
          "execution_count": 202
        },
        {
          "output_type": "display_data",
          "data": {
            "image/png": "[encoded data removed]",
            "text/plain": [
              "<Figure size 720x576 with 1 Axes>"
            ]
          },
          "metadata": {
            "tags": [],
            "needs_background": "light"
          }
        }
      ]
    },
    {
      "cell_type": "code",
      "metadata": {
        "id": "0i9nfA6xf_ky",
        "colab_type": "code",
        "colab": {}
      },
      "source": [
        "from pandas import read_csv\n",
        "from matplotlib import pyplot\n",
        "from pandas.plotting import lag_plot"
      ],
      "execution_count": null,
      "outputs": []
    },
    {
      "cell_type": "code",
      "metadata": {
        "id": "ckMbWBVPf_k5",
        "colab_type": "code",
        "colab": {},
        "outputId": "1dfb1ba3-6d7e-4d60-a4f2-e3d35bc44e96"
      },
      "source": [
        "lag_plot(df)\n",
        "pyplot.show()  # large correlation"
      ],
      "execution_count": null,
      "outputs": [
        {
          "output_type": "display_data",
          "data": {
            "image/png": "[encoded data removed]",
            "text/plain": [
              "<Figure size 720x576 with 1 Axes>"
            ]
          },
          "metadata": {
            "tags": [],
            "needs_background": "light"
          }
        }
      ]
    },
    {
      "cell_type": "code",
      "metadata": {
        "id": "XaQfIoJmf_k-",
        "colab_type": "code",
        "colab": {},
        "outputId": "3494fd3e-1f5d-4940-f030-4b458953edfe"
      },
      "source": [
        "values = pd.DataFrame(df.values)\n",
        "dataframe = pd.concat([values.shift(1), values], axis=1)\n",
        "dataframe.columns = ['t-1', 't+1']\n",
        "result = dataframe.corr()\n",
        "print(result) # Show positive correlation of .86 and lag=1 value"
      ],
      "execution_count": null,
      "outputs": [
        {
          "output_type": "stream",
          "text": [
            "          t-1       t+1\n",
            "t-1  1.000000  0.868204\n",
            "t+1  0.868204  1.000000\n"
          ],
          "name": "stdout"
        }
      ]
    },
    {
      "cell_type": "code",
      "metadata": {
        "id": "j4TI91Xkf_lB",
        "colab_type": "code",
        "colab": {},
        "outputId": "bc1e1262-5fb2-418b-888c-17383fee6ca4"
      },
      "source": [
        "from pandas.plotting import autocorrelation_plot\n",
        "autocorrelation_plot(df)\n",
        "pyplot.show()"
      ],
      "execution_count": null,
      "outputs": [
        {
          "output_type": "display_data",
          "data": {
            "image/png": "[encoded data removed]",
            "text/plain": [
              "<Figure size 720x576 with 1 Axes>"
            ]
          },
          "metadata": {
            "tags": [],
            "needs_background": "light"
          }
        }
      ]
    },
    {
      "cell_type": "code",
      "metadata": {
        "id": "Yz7Drya1f_lU",
        "colab_type": "code",
        "colab": {},
        "outputId": "ca0e23df-0ba9-44aa-8d71-530845beae7e"
      },
      "source": [
        "autocorrelation_plot(df[:1000])\n",
        "pyplot.show()"
      ],
      "execution_count": null,
      "outputs": [
        {
          "output_type": "display_data",
          "data": {
            "image/png": "[encoded data removed]",
            "text/plain": [
              "<Figure size 720x576 with 1 Axes>"
            ]
          },
          "metadata": {
            "tags": [],
            "needs_background": "light"
          }
        }
      ]
    },
    {
      "cell_type": "code",
      "metadata": {
        "id": "ffNKtTw_f_lX",
        "colab_type": "code",
        "colab": {},
        "outputId": "24061edf-7ba2-42ee-97b8-cb4b878f8ebd"
      },
      "source": [
        "autocorrelation_plot(df[22000:24000])\n",
        "pyplot.show()"
      ],
      "execution_count": null,
      "outputs": [
        {
          "output_type": "display_data",
          "data": {
            "image/png": "[encoded data removed]",
            "text/plain": [
              "<Figure size 720x576 with 1 Axes>"
            ]
          },
          "metadata": {
            "tags": [],
            "needs_background": "light"
          }
        }
      ]
    },
    {
      "cell_type": "code",
      "metadata": {
        "id": "ARQQD9jUf_le",
        "colab_type": "code",
        "colab": {},
        "outputId": "b34f4a08-58ca-4ae0-f3fb-a5a7865d21de"
      },
      "source": [
        "from statsmodels.graphics.tsaplots import plot_acf\n",
        "plot_acf(df, lags=31)\n",
        "pyplot.show()  # Autocorrelation plot"
      ],
      "execution_count": null,
      "outputs": [
        {
          "output_type": "display_data",
          "data": {
            "image/png": "[encoded data removed]",
            "text/plain": [
              "<Figure size 720x576 with 1 Axes>"
            ]
          },
          "metadata": {
            "tags": [],
            "needs_background": "light"
          }
        }
      ]
    },
    {
      "cell_type": "code",
      "metadata": {
        "id": "wiWK-qt_f_li",
        "colab_type": "code",
        "colab": {},
        "outputId": "1ab1cfba-03be-419b-a628-9bb277dd04c8"
      },
      "source": [
        "# Establish baseline performance\n",
        "from pandas import read_csv\n",
        "from pandas import DataFrame\n",
        "from pandas import concat\n",
        "from matplotlib import pyplot\n",
        "from sklearn.metrics import mean_squared_error\n",
        "series = df\n",
        "# create lagged dataset\n",
        "values = DataFrame(series.values)\n",
        "dataframe = concat([values.shift(1), values], axis=1)\n",
        "dataframe.columns = ['t-1', 't+1']\n",
        "# split into train and test sets\n",
        "X = dataframe.values\n",
        "train, test = X[1:len(X)-20], X[len(X)-20:]\n",
        "train_X, train_y = train[:,0], train[:,1]\n",
        "test_X, test_y = test[:,0], test[:,1]\n",
        "\n",
        "# persistence model\n",
        "def model_persistence(x):\n",
        "\treturn x\n",
        "\n",
        "# walk-forward validation\n",
        "predictions = list()\n",
        "for x in test_X:\n",
        "\tyhat = model_persistence(x)\n",
        "\tpredictions.append(yhat)\n",
        "test_score = mean_squared_error(test_y, predictions)\n",
        "print('Test MSE: %.3f' % test_score)\n",
        "# plot predictions vs expected\n",
        "pyplot.plot(test_y)\n",
        "pyplot.plot(predictions, color='red')\n",
        "pyplot.show()"
      ],
      "execution_count": null,
      "outputs": [
        {
          "output_type": "stream",
          "text": [
            "Test MSE: 0.020\n"
          ],
          "name": "stdout"
        },
        {
          "output_type": "display_data",
          "data": {
            "image/png": "[encoded data removed]",
            "text/plain": [
              "<Figure size 720x576 with 1 Axes>"
            ]
          },
          "metadata": {
            "tags": [],
            "needs_background": "light"
          }
        }
      ]
    },
    {
      "cell_type": "code",
      "metadata": {
        "id": "XTXiwoCyf_ll",
        "colab_type": "code",
        "colab": {},
        "outputId": "da6c97a8-f3bf-4029-8ada-7f0947d042a1"
      },
      "source": [
        "series.head()"
      ],
      "execution_count": null,
      "outputs": [
        {
          "output_type": "execute_result",
          "data": {
            "text/html": [
              "<div>\n",
              "<style scoped>\n",
              "    .dataframe tbody tr th:only-of-type {\n",
              "        vertical-align: middle;\n",
              "    }\n",
              "\n",
              "    .dataframe tbody tr th {\n",
              "        vertical-align: top;\n",
              "    }\n",
              "\n",
              "    .dataframe thead th {\n",
              "        text-align: right;\n",
              "    }\n",
              "</style>\n",
              "<table border=\"1\" class=\"dataframe\">\n",
              "  <thead>\n",
              "    <tr style=\"text-align: right;\">\n",
              "      <th></th>\n",
              "      <th>ZDisplacement</th>\n",
              "    </tr>\n",
              "    <tr>\n",
              "      <th>TimeStamp</th>\n",
              "      <th></th>\n",
              "    </tr>\n",
              "  </thead>\n",
              "  <tbody>\n",
              "    <tr>\n",
              "      <th>2018-07-25 17:57:46.699997000</th>\n",
              "      <td>0.59</td>\n",
              "    </tr>\n",
              "    <tr>\n",
              "      <th>2018-07-25 17:57:47.481247018</th>\n",
              "      <td>0.57</td>\n",
              "    </tr>\n",
              "    <tr>\n",
              "      <th>2018-07-25 17:57:48.262497037</th>\n",
              "      <td>0.47</td>\n",
              "    </tr>\n",
              "    <tr>\n",
              "      <th>2018-07-25 17:57:49.043747055</th>\n",
              "      <td>0.46</td>\n",
              "    </tr>\n",
              "    <tr>\n",
              "      <th>2018-07-25 17:57:49.824997073</th>\n",
              "      <td>0.34</td>\n",
              "    </tr>\n",
              "  </tbody>\n",
              "</table>\n",
              "</div>"
            ],
            "text/plain": [
              "                               ZDisplacement\n",
              "TimeStamp                                   \n",
              "2018-07-25 17:57:46.699997000           0.59\n",
              "2018-07-25 17:57:47.481247018           0.57\n",
              "2018-07-25 17:57:48.262497037           0.47\n",
              "2018-07-25 17:57:49.043747055           0.46\n",
              "2018-07-25 17:57:49.824997073           0.34"
            ]
          },
          "metadata": {
            "tags": []
          },
          "execution_count": 240
        }
      ]
    },
    {
      "cell_type": "code",
      "metadata": {
        "id": "b3emKcNjf_ln",
        "colab_type": "code",
        "colab": {},
        "outputId": "e2b75fa3-fe4a-4c59-ceae-92c031bcbf23"
      },
      "source": [
        "series.tail()"
      ],
      "execution_count": null,
      "outputs": [
        {
          "output_type": "execute_result",
          "data": {
            "text/html": [
              "<div>\n",
              "<style scoped>\n",
              "    .dataframe tbody tr th:only-of-type {\n",
              "        vertical-align: middle;\n",
              "    }\n",
              "\n",
              "    .dataframe tbody tr th {\n",
              "        vertical-align: top;\n",
              "    }\n",
              "\n",
              "    .dataframe thead th {\n",
              "        text-align: right;\n",
              "    }\n",
              "</style>\n",
              "<table border=\"1\" class=\"dataframe\">\n",
              "  <thead>\n",
              "    <tr style=\"text-align: right;\">\n",
              "      <th></th>\n",
              "      <th>ZDisplacement</th>\n",
              "    </tr>\n",
              "    <tr>\n",
              "      <th>TimeStamp</th>\n",
              "      <th></th>\n",
              "    </tr>\n",
              "  </thead>\n",
              "  <tbody>\n",
              "    <tr>\n",
              "      <th>2018-07-26 15:39:48.576827981</th>\n",
              "      <td>-0.05</td>\n",
              "    </tr>\n",
              "    <tr>\n",
              "      <th>2018-07-26 15:39:49.358078000</th>\n",
              "      <td>0.20</td>\n",
              "    </tr>\n",
              "    <tr>\n",
              "      <th>2018-07-26 15:39:50.139328018</th>\n",
              "      <td>0.37</td>\n",
              "    </tr>\n",
              "    <tr>\n",
              "      <th>2018-07-26 15:39:50.920578036</th>\n",
              "      <td>0.34</td>\n",
              "    </tr>\n",
              "    <tr>\n",
              "      <th>2018-07-26 15:39:51.701828055</th>\n",
              "      <td>0.16</td>\n",
              "    </tr>\n",
              "  </tbody>\n",
              "</table>\n",
              "</div>"
            ],
            "text/plain": [
              "                               ZDisplacement\n",
              "TimeStamp                                   \n",
              "2018-07-26 15:39:48.576827981          -0.05\n",
              "2018-07-26 15:39:49.358078000           0.20\n",
              "2018-07-26 15:39:50.139328018           0.37\n",
              "2018-07-26 15:39:50.920578036           0.34\n",
              "2018-07-26 15:39:51.701828055           0.16"
            ]
          },
          "metadata": {
            "tags": []
          },
          "execution_count": 241
        }
      ]
    },
    {
      "cell_type": "markdown",
      "metadata": {
        "id": "Q-mcSmtKf_lr",
        "colab_type": "text"
      },
      "source": [
        " ## An autoregression model is a linear regression model that uses lagged variables as input variables."
      ]
    },
    {
      "cell_type": "code",
      "metadata": {
        "id": "0hd9nSCAf_lr",
        "colab_type": "code",
        "colab": {},
        "outputId": "1630267b-2e43-4734-9948-ebbad4e62517"
      },
      "source": [
        "# create and evaluate a static autoregressive model\n",
        "from pandas import read_csv\n",
        "from matplotlib import pyplot\n",
        "from statsmodels.tsa.ar_model import AutoReg\n",
        "from sklearn.metrics import mean_squared_error\n",
        "from math import sqrt\n",
        "# load dataset\n",
        "series = df\n",
        "# split dataset\n",
        "X = series.values\n",
        "train, test = X[1:len(X)-20], X[len(X)-20:]\n",
        "# train autoregression\n",
        "model = AutoReg(train, lags=29)\n",
        "model_fit = model.fit()\n",
        "print('Coefficients: %s' % model_fit.params)\n",
        "# make predictions\n",
        "predictions = model_fit.predict(start=len(train), end=len(train)+len(test)-1, dynamic=False)\n",
        "for i in range(len(predictions)):\n",
        "\tprint('predicted=%f, expected=%f' % (predictions[i], test[i]))\n",
        "rmse = sqrt(mean_squared_error(test, predictions))\n",
        "print('Test RMSE: %.3f' % rmse)\n",
        "# plot results\n",
        "pyplot.plot(test)\n",
        "pyplot.plot(predictions, color='red')\n",
        "pyplot.show()"
      ],
      "execution_count": null,
      "outputs": [
        {
          "output_type": "stream",
          "text": [
            "Coefficients: [ 7.84459689e-05  1.02441259e+00 -8.42495252e-01  4.06452608e-01\n",
            " -6.30878269e-01  2.97441706e-01 -6.29911014e-01  2.65285328e-01\n",
            " -6.96506255e-01  2.73791606e-01 -7.15277461e-01  2.63678619e-01\n",
            " -7.18724576e-01  2.47735808e-01 -6.92820754e-01  2.41685620e-01\n",
            " -6.52738930e-01  2.30754152e-01 -5.87009335e-01  2.28723645e-01\n",
            " -5.20312936e-01  2.07756161e-01 -4.35626073e-01  1.83033575e-01\n",
            " -3.45115624e-01  1.53481501e-01 -2.56056761e-01  1.10181352e-01\n",
            " -1.26401404e-01 -3.16846531e-02]\n",
            "predicted=-0.037639, expected=-0.030000\n",
            "predicted=-0.074396, expected=-0.080000\n",
            "predicted=-0.095365, expected=-0.150000\n",
            "predicted=-0.124187, expected=-0.350000\n",
            "predicted=-0.133773, expected=-0.330000\n",
            "predicted=-0.136268, expected=-0.260000\n",
            "predicted=-0.118204, expected=-0.140000\n",
            "predicted=-0.108361, expected=0.010000\n",
            "predicted=-0.084819, expected=0.160000\n",
            "predicted=-0.069283, expected=0.330000\n",
            "predicted=-0.027720, expected=0.370000\n",
            "predicted=0.034688, expected=0.310000\n",
            "predicted=0.101094, expected=0.080000\n",
            "predicted=0.165282, expected=-0.090000\n",
            "predicted=0.217995, expected=-0.210000\n",
            "predicted=0.242097, expected=-0.050000\n",
            "predicted=0.223332, expected=0.200000\n",
            "predicted=0.195395, expected=0.370000\n",
            "predicted=0.136251, expected=0.340000\n",
            "predicted=0.068632, expected=0.160000\n",
            "Test RMSE: 0.223\n"
          ],
          "name": "stdout"
        },
        {
          "output_type": "display_data",
          "data": {
            "image/png": "[encoded data removed]",
            "text/plain": [
              "<Figure size 720x576 with 1 Axes>"
            ]
          },
          "metadata": {
            "tags": [],
            "needs_background": "light"
          }
        }
      ]
    },
    {
      "cell_type": "markdown",
      "metadata": {
        "id": "thcTD9alf_lu",
        "colab_type": "text"
      },
      "source": [
        "One way would be to re-train the AutoReg model each day as new observations become available, and that may be a valid approach, if not computationally expensive."
      ]
    },
    {
      "cell_type": "code",
      "metadata": {
        "id": "v0G6hJ-of_lu",
        "colab_type": "code",
        "colab": {},
        "outputId": "300b8ce0-7baf-4068-f0e6-3d2da0619eb1"
      },
      "source": [
        "# create and evaluate an updated autoregressive model\n",
        "from pandas import read_csv\n",
        "from matplotlib import pyplot\n",
        "from statsmodels.tsa.ar_model import AutoReg\n",
        "from sklearn.metrics import mean_squared_error\n",
        "from math import sqrt\n",
        "# load dataset\n",
        "series = df\n",
        "# split dataset\n",
        "X = series.values\n",
        "train, test = X[1:len(X)-20], X[len(X)-20:]\n",
        "# train autoregression\n",
        "window = 29\n",
        "model = AutoReg(train, lags=29)\n",
        "model_fit = model.fit()\n",
        "coef = model_fit.params\n",
        "# walk forward over time steps in test\n",
        "history = train[len(train)-window:]\n",
        "history = [history[i] for i in range(len(history))]\n",
        "predictions = list()\n",
        "for t in range(len(test)):\n",
        "\tlength = len(history)\n",
        "\tlag = [history[i] for i in range(length-window,length)]\n",
        "\tyhat = coef[0]\n",
        "\tfor d in range(window):\n",
        "\t\tyhat += coef[d+1] * lag[window-d-1]\n",
        "\tobs = test[t]\n",
        "\tpredictions.append(yhat)\n",
        "\thistory.append(obs)\n",
        "\tprint('predicted=%f, expected=%f' % (yhat, obs))\n",
        "rmse = sqrt(mean_squared_error(test, predictions))\n",
        "print('Test RMSE: %.3f' % rmse)\n",
        "# plot\n",
        "pyplot.plot(test)\n",
        "pyplot.plot(predictions, color='red')\n",
        "pyplot.show()"
      ],
      "execution_count": null,
      "outputs": [
        {
          "output_type": "stream",
          "text": [
            "predicted=-0.037639, expected=-0.030000\n",
            "predicted=-0.066570, expected=-0.080000\n",
            "predicted=-0.107542, expected=-0.150000\n",
            "predicted=-0.172329, expected=-0.350000\n",
            "predicted=-0.326167, expected=-0.330000\n",
            "predicted=-0.163438, expected=-0.260000\n",
            "predicted=-0.143430, expected=-0.140000\n",
            "predicted=0.025564, expected=0.010000\n",
            "predicted=0.088740, expected=0.160000\n",
            "predicted=0.226372, expected=0.330000\n",
            "predicted=0.294863, expected=0.370000\n",
            "predicted=0.298304, expected=0.310000\n",
            "predicted=0.178958, expected=0.080000\n",
            "predicted=-0.000553, expected=-0.090000\n",
            "predicted=-0.074105, expected=-0.210000\n",
            "predicted=-0.128956, expected=-0.050000\n",
            "predicted=0.092976, expected=0.200000\n",
            "predicted=0.217988, expected=0.370000\n",
            "predicted=0.281131, expected=0.340000\n",
            "predicted=0.116699, expected=0.160000\n",
            "Test RMSE: 0.086\n"
          ],
          "name": "stdout"
        },
        {
          "output_type": "display_data",
          "data": {
            "image/png": "[encoded data removed]",
            "text/plain": [
              "<Figure size 720x576 with 1 Axes>"
            ]
          },
          "metadata": {
            "tags": [],
            "needs_background": "light"
          }
        }
      ]
    },
    {
      "cell_type": "code",
      "metadata": {
        "id": "-CavrPOef_ly",
        "colab_type": "code",
        "colab": {}
      },
      "source": [
        ""
      ],
      "execution_count": null,
      "outputs": []
    },
    {
      "cell_type": "code",
      "metadata": {
        "id": "pdGPw64Hf_l1",
        "colab_type": "code",
        "colab": {}
      },
      "source": [
        ""
      ],
      "execution_count": null,
      "outputs": []
    },
    {
      "cell_type": "code",
      "metadata": {
        "id": "GGniO0nof_l4",
        "colab_type": "code",
        "colab": {}
      },
      "source": [
        ""
      ],
      "execution_count": null,
      "outputs": []
    },
    {
      "cell_type": "code",
      "metadata": {
        "id": "lUd7XInaf_l8",
        "colab_type": "code",
        "colab": {}
      },
      "source": [
        ""
      ],
      "execution_count": null,
      "outputs": []
    }
  ]
}